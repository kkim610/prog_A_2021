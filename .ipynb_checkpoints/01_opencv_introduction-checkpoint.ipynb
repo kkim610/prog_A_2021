{
 "cells": [
  {
   "cell_type": "markdown",
   "metadata": {
    "Collapsed": "false"
   },
   "source": [
    "# 1. opencv\n",
    "open source computer vision\n",
    "\n",
    "* opencv is an image processiong library for computer vision for real time applications \n",
    "* available on Windows, Linux, Mac\n",
    "* works in C, C++, and Python\n",
    "* open source and free \n",
    "* easy to use and install"
   ]
  },
  {
   "cell_type": "markdown",
   "metadata": {
    "Collapsed": "false"
   },
   "source": [
    "## Image vs Array(Matrix)\n",
    "* Digitsl images are typically stored in an array.\n",
    "* There are many different image file formats."
   ]
  },
  {
   "cell_type": "markdown",
   "metadata": {
    "Collapsed": "false"
   },
   "source": [
    "## How do computers see images?"
   ]
  },
  {
   "cell_type": "markdown",
   "metadata": {
    "Collapsed": "false"
   },
   "source": [
    "color image vs. gray scale image  \n",
    "color image: 3 channel (BGR)"
   ]
  },
  {
   "cell_type": "markdown",
   "metadata": {
    "Collapsed": "false"
   },
   "source": [
    "## What is Numpy\n",
    "* Numpy is a highly optimized library for numerical operations.\n",
    "* Array structure is important because digital images are 2D arrays of pixels.\n",
    "* All the opencv array structures are converted to-and-from Numpy arrays.\n",
    "* You can use more convinient indexing system rather than using for loops."
   ]
  },
  {
   "cell_type": "markdown",
   "metadata": {
    "Collapsed": "false"
   },
   "source": [
    "# 2. How to install opencv for python on Windows 10\n",
    "### anaconda prompt 에서 다음을 입력하고 리턴 키를 누른다.  \n",
    "### pip install opencv-python"
   ]
  },
  {
   "cell_type": "code",
   "execution_count": null,
   "metadata": {
    "Collapsed": "false"
   },
   "outputs": [],
   "source": [
    "# opencv 버전 체크\n",
    "\n",
    "import cv2\n",
    "\n",
    "print(cv2.__version__)"
   ]
  },
  {
   "cell_type": "code",
   "execution_count": null,
   "metadata": {
    "Collapsed": "false"
   },
   "outputs": [],
   "source": [
    "from matplotlib import pyplot as plt\n",
    "#%matplotlib inline"
   ]
  },
  {
   "cell_type": "code",
   "execution_count": null,
   "metadata": {
    "Collapsed": "false",
    "scrolled": true
   },
   "outputs": [],
   "source": [
    "\n",
    "img=cv2.imread('pic/lena.jpg')"
   ]
  },
  {
   "cell_type": "code",
   "execution_count": null,
   "metadata": {
    "Collapsed": "false",
    "scrolled": true
   },
   "outputs": [],
   "source": [
    "plt.imshow(img)"
   ]
  },
  {
   "cell_type": "markdown",
   "metadata": {
    "Collapsed": "false"
   },
   "source": [
    "Hm... Lena is looking a little _blue_ in the above photo, wouldn't you say?"
   ]
  },
  {
   "cell_type": "markdown",
   "metadata": {
    "Collapsed": "false"
   },
   "source": [
    "이유는 openCV는 BGR로 사용하지만, Matplotlib는 RGB로 이미지를 보여주기 때문입니다."
   ]
  },
  {
   "cell_type": "markdown",
   "metadata": {
    "Collapsed": "false"
   },
   "source": [
    "**Fix colors when displaying images**"
   ]
  },
  {
   "cell_type": "code",
   "execution_count": null,
   "metadata": {
    "Collapsed": "false"
   },
   "outputs": [],
   "source": [
    "img_corrected = cv2.cvtColor(img, cv2.COLOR_BGR2RGB)\n",
    "\n",
    "plt.imshow(img_corrected)"
   ]
  },
  {
   "cell_type": "markdown",
   "metadata": {
    "Collapsed": "false"
   },
   "source": [
    "**Remove the axes around the image**"
   ]
  },
  {
   "cell_type": "code",
   "execution_count": null,
   "metadata": {
    "Collapsed": "false"
   },
   "outputs": [],
   "source": [
    "plt.axis(\"off\") #remove axes ticks\n",
    "plt.imshow(img_corrected)"
   ]
  },
  {
   "cell_type": "markdown",
   "metadata": {
    "Collapsed": "false"
   },
   "source": [
    "## 3. 이미지 파일 읽기 및 쓰기(저장)"
   ]
  },
  {
   "cell_type": "markdown",
   "metadata": {
    "Collapsed": "false"
   },
   "source": [
    "cv2.imread() 함수를 이용하여 이미지 파일을 읽습니다. 이미지 파일의 경로는 절대/상대경로가 가능합니다.\n",
    "결과는 읽어들인 image의 numpy.ndarray 값을 반환합니다."
   ]
  },
  {
   "cell_type": "markdown",
   "metadata": {
    "Collapsed": "false"
   },
   "source": [
    "<img style=\"float: left;\" src=\"pic/fig_1_1.jpg\" width=\"400\">"
   ]
  },
  {
   "cell_type": "markdown",
   "metadata": {
    "Collapsed": "false"
   },
   "source": [
    "<img style=\"float: left;\" src=\"pic/fig_1_2.jpg\" width=\"600\">"
   ]
  },
  {
   "cell_type": "markdown",
   "metadata": {
    "Collapsed": "false"
   },
   "source": [
    "3개의 flag대신에 1, 0, -1을 사용해도 됩니다."
   ]
  },
  {
   "cell_type": "markdown",
   "metadata": {
    "Collapsed": "false"
   },
   "source": [
    "**alpha channel**"
   ]
  },
  {
   "cell_type": "markdown",
   "metadata": {
    "Collapsed": "false"
   },
   "source": [
    "Alpha channels are masks through which you can display images.  \n",
    "The alpha channel is an 8-bit channel, which means it has 256 levels of gray from 0 (black) to 255 (white).   \n",
    "White acts as the visible area; black acts as the transparent area (you see the background behind the image when displayed).   \n",
    "The level of gray in between determines the level of visibility.   \n",
    "For example, 50 percent gray allows for 50 percent visibility. \n",
    "The resulting image is called RGBA (RGB+A, A means alpha channel)."
   ]
  },
  {
   "cell_type": "markdown",
   "metadata": {
    "Collapsed": "false"
   },
   "source": [
    "<img style=\"float: left;\" src=\"pic/fig_1_3.jpg\" width=\"500\">"
   ]
  },
  {
   "cell_type": "markdown",
   "metadata": {
    "Collapsed": "false"
   },
   "source": [
    "<img style=\"float: left;\" src=\"pic/fig_1_4.jpg\" width=\"400\">"
   ]
  },
  {
   "cell_type": "markdown",
   "metadata": {
    "Collapsed": "false"
   },
   "source": [
    "<img style=\"float: left;\" src=\"pic/fig_1_5.jpg\" width=\"400\">"
   ]
  },
  {
   "cell_type": "code",
   "execution_count": null,
   "metadata": {
    "Collapsed": "false"
   },
   "outputs": [],
   "source": [
    "fname = 'pic/fig_0_3.jpeg' \n",
    "\n",
    "color_bird = cv2.imread(fname, cv2.IMREAD_COLOR)\n",
    "gray_bird = cv2.imread(fname, cv2.IMREAD_GRAYSCALE)\n",
    "bird = cv2.imread(fname)\n",
    "\n",
    "cv2.imshow('Color_Bird', color_bird)\n",
    "cv2.imshow('Gray_Bird', gray_bird)\n",
    "cv2.imshow('Bird', bird)\n",
    "\n",
    "cv2.waitKey(0)\n",
    "cv2.destroyAllWindows()"
   ]
  },
  {
   "cell_type": "code",
   "execution_count": null,
   "metadata": {
    "Collapsed": "false"
   },
   "outputs": [],
   "source": [
    "gray_bird"
   ]
  },
  {
   "cell_type": "markdown",
   "metadata": {
    "Collapsed": "false"
   },
   "source": [
    "### 이미지 저장하기\n",
    "cv2.imwrite() 함수를 이용하여 변환된 이미지나 동영상의 특정 프레임을 저장합니다."
   ]
  },
  {
   "cell_type": "markdown",
   "metadata": {
    "Collapsed": "false"
   },
   "source": [
    "<img style=\"float: left;\" src=\"pic/fig_1_6.jpg\" width=\"400\">"
   ]
  },
  {
   "cell_type": "code",
   "execution_count": null,
   "metadata": {
    "Collapsed": "false"
   },
   "outputs": [],
   "source": [
    "cv2.imwrite('bird_saved.png', bird)"
   ]
  },
  {
   "cell_type": "markdown",
   "metadata": {
    "Collapsed": "false"
   },
   "source": [
    "### 이미지 보기\n",
    "cv2.imshow() 함수는 이미지를 사이즈에 맞게 보여줍니다"
   ]
  },
  {
   "cell_type": "markdown",
   "metadata": {
    "Collapsed": "false"
   },
   "source": [
    "<img style=\"float: left;\" src=\"pic/fig_1_7.jpg\" width=\"700\">"
   ]
  },
  {
   "cell_type": "code",
   "execution_count": null,
   "metadata": {
    "Collapsed": "false"
   },
   "outputs": [],
   "source": [
    "BBB=cv2.imread('bird_saved.png')\n",
    "\n",
    "cv2.imshow('Bird_Saved', BBB)\n",
    "cv2.waitKey(0)\n",
    "cv2.destroyAllWindows()"
   ]
  },
  {
   "cell_type": "markdown",
   "metadata": {
    "Collapsed": "false"
   },
   "source": [
    "## 4.  카메라로 비디오 및 사진 촬영 (PC/Notebook 에 있는(연결된) 카메라)"
   ]
  },
  {
   "cell_type": "markdown",
   "metadata": {
    "Collapsed": "false"
   },
   "source": [
    "####  카메라 작동"
   ]
  },
  {
   "cell_type": "code",
   "execution_count": null,
   "metadata": {
    "Collapsed": "false"
   },
   "outputs": [],
   "source": [
    "import cv2\n",
    "\n",
    "cap = cv2.VideoCapture(0) \n",
    "\n",
    "while True:\n",
    "    ret, frame = cap.read()\n",
    "    \n",
    "    cv2.imshow('frame', frame)\n",
    "\n",
    "    if cv2.waitKey(1) & 0xFF == ord('q'):\n",
    "        break\n",
    "\n",
    "cap.release()\n",
    "cv2.destroyAllWindows()"
   ]
  },
  {
   "cell_type": "markdown",
   "metadata": {
    "Collapsed": "false"
   },
   "source": [
    "### 카메라 작동 (흑백 으로)"
   ]
  },
  {
   "cell_type": "code",
   "execution_count": null,
   "metadata": {
    "Collapsed": "false"
   },
   "outputs": [],
   "source": [
    "import cv2\n",
    "\n",
    "cap = cv2.VideoCapture(0) \n",
    "\n",
    "while True:\n",
    "    ret, frame = cap.read()\n",
    "    \n",
    "    gray=cv2.cvtColor(frame, cv2.COLOR_BGR2GRAY)\n",
    "    \n",
    "    cv2.imshow('frame', gray)\n",
    "\n",
    "    if cv2.waitKey(1) & 0xFF == ord('q'):\n",
    "        break\n",
    "\n",
    "cap.release()\n",
    "cv2.destroyAllWindows()"
   ]
  },
  {
   "cell_type": "markdown",
   "metadata": {
    "Collapsed": "false"
   },
   "source": [
    "### 카메라가 작동하는 동안"
   ]
  },
  {
   "cell_type": "code",
   "execution_count": null,
   "metadata": {
    "Collapsed": "false"
   },
   "outputs": [],
   "source": [
    "import cv2\n",
    "\n",
    "cap = cv2.VideoCapture(0) \n",
    "print(cap.isOpened())\n",
    "\n",
    "while cap.isOpened():\n",
    "    ret, frame = cap.read()\n",
    "    \n",
    "    gray=cv2.cvtColor(frame, cv2.COLOR_BGR2GRAY)\n",
    "    \n",
    "    cv2.imshow('frame', gray)\n",
    "\n",
    "    if cv2.waitKey(1) & 0xFF == ord('q'):\n",
    "        break\n",
    "\n",
    "cap.release()\n",
    "cv2.destroyAllWindows()"
   ]
  },
  {
   "cell_type": "markdown",
   "metadata": {
    "Collapsed": "false"
   },
   "source": [
    "#### frame width & height"
   ]
  },
  {
   "cell_type": "code",
   "execution_count": null,
   "metadata": {
    "Collapsed": "false"
   },
   "outputs": [],
   "source": [
    "import cv2\n",
    "\n",
    "cap = cv2.VideoCapture(0) \n",
    "print(cap.isOpened())\n",
    "\n",
    "while cap.isOpened():\n",
    "    ret, frame = cap.read()\n",
    "    \n",
    "    print(cap.get(cv2.CAP_PROP_FRAME_WIDTH))\n",
    "    print(cap.get(cv2.CAP_PROP_FRAME_HEIGHT))\n",
    "    \n",
    "    gray=cv2.cvtColor(frame, cv2.COLOR_BGR2GRAY)\n",
    "    \n",
    "    cv2.imshow('frame', gray)\n",
    "\n",
    "    if cv2.waitKey(1) & 0xFF == ord('q'):\n",
    "        break\n",
    "\n",
    "cap.release()\n",
    "cv2.destroyAllWindows()"
   ]
  },
  {
   "cell_type": "markdown",
   "metadata": {
    "Collapsed": "false"
   },
   "source": [
    "#### 저장하기"
   ]
  },
  {
   "cell_type": "code",
   "execution_count": null,
   "metadata": {
    "Collapsed": "false"
   },
   "outputs": [],
   "source": [
    "import cv2\n",
    "\n",
    "cap = cv2.VideoCapture(0)\n",
    "fourcc = cv2.VideoWriter_fourcc(*'XVID')\n",
    "out = cv2.VideoWriter('output.mp4', fourcc, 20.0, (640,480))\n",
    "\n",
    "print(cap.isOpened())\n",
    "while(cap.isOpened()):\n",
    "    ret, frame = cap.read()\n",
    "    if ret == True:\n",
    "        print(cap.get(cv2.CAP_PROP_FRAME_WIDTH))\n",
    "        print(cap.get(cv2.CAP_PROP_FRAME_HEIGHT))\n",
    "\n",
    "        out.write(frame)\n",
    "\n",
    "        gray = cv2.cvtColor(frame, cv2.COLOR_BGR2GRAY)\n",
    "        cv2.imshow('frame', gray)\n",
    "\n",
    "        if cv2.waitKey(1) & 0xFF == ord('q'):\n",
    "            break\n",
    "    else:\n",
    "        break\n",
    "\n",
    "cap.release()\n",
    "out.release()\n",
    "cv2.destroyAllWindows()"
   ]
  },
  {
   "cell_type": "markdown",
   "metadata": {
    "Collapsed": "false"
   },
   "source": [
    "폴더에 가면 output.mp4 가 저장되어 있다. 클릭하면 플레이된다."
   ]
  },
  {
   "cell_type": "markdown",
   "metadata": {
    "Collapsed": "false"
   },
   "source": [
    "#### 저장된 비디오화일 읽어 들이기"
   ]
  },
  {
   "cell_type": "code",
   "execution_count": null,
   "metadata": {
    "Collapsed": "false"
   },
   "outputs": [],
   "source": [
    "import matplotlib.pylab as plt\n",
    "import cv2\n",
    "import numpy as np\n",
    "\n",
    "cap = cv2.VideoCapture(\"test.mp4\")\n",
    "n=0\n",
    "\n",
    "while cap.isOpened():\n",
    "    print(n)\n",
    "    ret, frame = cap.read()\n",
    "    cv2.imshow('frame',frame)\n",
    "    \n",
    "    if cv2.waitKey(1) & 0xFF == ord('q'):\n",
    "        break\n",
    "    n += 1\n",
    "cap.release()\n",
    "out.release()\n",
    "cv2.destroyAllWindows()"
   ]
  },
  {
   "cell_type": "markdown",
   "metadata": {
    "Collapsed": "false"
   },
   "source": [
    "### 비디오로부터 frame 이미지 저장하기"
   ]
  },
  {
   "cell_type": "code",
   "execution_count": null,
   "metadata": {
    "Collapsed": "false"
   },
   "outputs": [],
   "source": [
    "import cv2\n",
    "\n",
    "cap = cv2.VideoCapture(\"pic/test.mp4\")\n",
    "n=0\n",
    "\n",
    "while cap.isOpened():\n",
    "    print(n)\n",
    "    ret, frame = cap.read()\n",
    "    cv2.imshow('frame',frame)\n",
    "\n",
    "    if n==50 or n==100 or n== 150:\n",
    "        cv2.imwrite('road'+str(n)+'.jpg', frame)\n",
    "    if cv2.waitKey(1) & 0xFF == ord('q'):\n",
    "        break\n",
    "    n += 1\n",
    "cap.release()\n",
    "cv2.destroyAllWindows()"
   ]
  },
  {
   "cell_type": "markdown",
   "metadata": {
    "Collapsed": "false"
   },
   "source": [
    "## 5. Draw geometric shapes on images"
   ]
  },
  {
   "cell_type": "code",
   "execution_count": null,
   "metadata": {
    "Collapsed": "false"
   },
   "outputs": [],
   "source": [
    "import cv2\n",
    "\n",
    "img = cv2.imread('pic/lena.jpg',0)  # 0 means gray\n",
    "cv2.imshow('image',img)\n",
    "\n",
    "cv2.waitKey(0)\n",
    "cv2.destroyAllWindows()"
   ]
  },
  {
   "cell_type": "markdown",
   "metadata": {
    "Collapsed": "false"
   },
   "source": [
    "이 이미지 위에 선을 그어보자."
   ]
  },
  {
   "cell_type": "code",
   "execution_count": null,
   "metadata": {
    "Collapsed": "false"
   },
   "outputs": [],
   "source": [
    "import cv2\n",
    "\n",
    "img = cv2.imread('pic/lena.jpg',0)\n",
    "\n",
    "img=cv2.line(img, (0,0), (100,200), (0,0,255), 5)\n",
    "#cv2.line(img, pt1, pt2, color_bgr, thickness)\n",
    "\n",
    "cv2.imshow('image',img)\n",
    "\n",
    "cv2.waitKey(0)\n",
    "cv2.destroyAllWindows()"
   ]
  },
  {
   "cell_type": "markdown",
   "metadata": {
    "Collapsed": "false"
   },
   "source": [
    "image 가 흑백이라, 선도 흑백으로 그려졌다.  \n",
    "image를 color로 바꾸어보자."
   ]
  },
  {
   "cell_type": "code",
   "execution_count": null,
   "metadata": {
    "Collapsed": "false"
   },
   "outputs": [],
   "source": [
    "import cv2\n",
    "\n",
    "img = cv2.imread('pic/lena.jpg',1)\n",
    "\n",
    "img=cv2.line(img, (0,0), (100,200), (0,0,255), 5)\n",
    "#cv2.line(img, pt1, pt2, color_bgr, thickness)\n",
    "\n",
    "cv2.imshow('image',img)\n",
    "\n",
    "cv2.waitKey(0)\n",
    "cv2.destroyAllWindows()"
   ]
  },
  {
   "cell_type": "markdown",
   "metadata": {
    "Collapsed": "false"
   },
   "source": [
    "선의 color를 green 으로 바꾸고 두께를 10으로 바꾸어보자."
   ]
  },
  {
   "cell_type": "code",
   "execution_count": null,
   "metadata": {
    "Collapsed": "false"
   },
   "outputs": [],
   "source": [
    "import cv2\n",
    "\n",
    "img = cv2.imread('pic/lena.jpg',1)\n",
    "\n",
    "img=cv2.line(img, (0,0), (100,200), (0,255,0), 10)\n",
    "#cv2.line(img, pt1, pt2, color_bgr, thickness)\n",
    "\n",
    "cv2.imshow('image',img)\n",
    "\n",
    "cv2.waitKey(0)\n",
    "cv2.destroyAllWindows()"
   ]
  },
  {
   "cell_type": "markdown",
   "metadata": {
    "Collapsed": "false"
   },
   "source": [
    "google 에서 rgb color picker"
   ]
  },
  {
   "cell_type": "markdown",
   "metadata": {
    "Collapsed": "false"
   },
   "source": [
    "<img style=\"float: left;\" src=\"pic/fig_03.png\" width=\"700\">"
   ]
  },
  {
   "cell_type": "markdown",
   "metadata": {
    "Collapsed": "false"
   },
   "source": [
    "주의: 위 color는 RGB 값이며, cv2 에서는 BGR을 사용하므로, 값의 나열 순서를 뒤집어야 한다."
   ]
  },
  {
   "cell_type": "code",
   "execution_count": null,
   "metadata": {
    "Collapsed": "false"
   },
   "outputs": [],
   "source": [
    "import cv2\n",
    "\n",
    "img = cv2.imread('pic/lena.jpg',1)\n",
    "\n",
    "img=cv2.line(img, (0,0), (100,200), (199,70,195), 10) #rgb 195, 70, 199\n",
    "#cv2.line(img, pt1, pt2, color_bgr, thickness)\n",
    "\n",
    "cv2.imshow('image',img)\n",
    "\n",
    "cv2.waitKey(0)\n",
    "cv2.destroyAllWindows()"
   ]
  },
  {
   "cell_type": "markdown",
   "metadata": {
    "Collapsed": "false"
   },
   "source": [
    "파란색 화살표를 그려보자"
   ]
  },
  {
   "cell_type": "code",
   "execution_count": null,
   "metadata": {
    "Collapsed": "false"
   },
   "outputs": [],
   "source": [
    "import cv2\n",
    "\n",
    "img = cv2.imread('pic/lena.jpg',1)\n",
    "\n",
    "img=cv2.line(img, (0,0), (200,200), (199,70,195), 10) #rgb 195, 70, 199\n",
    "#cv2.line(img, pt1, pt2, color_bgr, thickness)\n",
    "\n",
    "img=cv2.arrowedLine(img, (0,200), (200,200), (255,0,0), 10) #rgb 195, 70, 199\n",
    "\n",
    "cv2.imshow('image',img)\n",
    "\n",
    "cv2.waitKey(0)\n",
    "cv2.destroyAllWindows()"
   ]
  },
  {
   "cell_type": "markdown",
   "metadata": {
    "Collapsed": "false"
   },
   "source": [
    "사각형을 그려보자."
   ]
  },
  {
   "cell_type": "code",
   "execution_count": null,
   "metadata": {
    "Collapsed": "false"
   },
   "outputs": [],
   "source": [
    "import cv2\n",
    "\n",
    "img = cv2.imread('pic/lena.jpg',1)\n",
    "\n",
    "img=cv2.line(img, (0,0), (200,200), (199,70,195), 10) #rgb 195, 70, 199\n",
    "#cv2.line(img, pt1, pt2, color_bgr, thickness)\n",
    "\n",
    "img=cv2.arrowedLine(img, (0,200), (200,200), (255,0,0), 10) #rgb 195, 70, 199\n",
    "\n",
    "img=cv2.rectangle(img, (384,0), (510,128), (0,0,255), 5) #rgb 195, 70, 199\n",
    "\n",
    "cv2.imshow('image',img)\n",
    "\n",
    "cv2.waitKey(0)\n",
    "cv2.destroyAllWindows()"
   ]
  },
  {
   "cell_type": "markdown",
   "metadata": {
    "Collapsed": "false"
   },
   "source": [
    "두께를 -1로 하면, 사각형을 둘레 color로 채운다."
   ]
  },
  {
   "cell_type": "code",
   "execution_count": null,
   "metadata": {
    "Collapsed": "false"
   },
   "outputs": [],
   "source": [
    "import cv2\n",
    "\n",
    "img = cv2.imread('pic/lena.jpg',1)\n",
    "\n",
    "img=cv2.line(img, (0,0), (200,200), (199,70,195), 10) #rgb 195, 70, 199\n",
    "#cv2.line(img, pt1, pt2, color_bgr, thickness)\n",
    "\n",
    "img=cv2.arrowedLine(img, (0,200), (200,200), (255,0,0), 10) #rgb 195, 70, 199\n",
    "\n",
    "img=cv2.rectangle(img, (384,0), (510,128), (0,0,255), -1) #rgb 195, 70, 199\n",
    "\n",
    "cv2.imshow('image',img)\n",
    "\n",
    "cv2.waitKey(0)\n",
    "cv2.destroyAllWindows()"
   ]
  },
  {
   "cell_type": "markdown",
   "metadata": {
    "Collapsed": "false"
   },
   "source": [
    "원을 그려보자."
   ]
  },
  {
   "cell_type": "code",
   "execution_count": null,
   "metadata": {
    "Collapsed": "false"
   },
   "outputs": [],
   "source": [
    "import cv2\n",
    "\n",
    "img = cv2.imread('pic/lena.jpg',1)\n",
    "\n",
    "img=cv2.line(img, (0,0), (200,200), (199,70,195), 10) #rgb 195, 70, 199\n",
    "#cv2.line(img, pt1, pt2, color_bgr, thickness)\n",
    "\n",
    "img=cv2.arrowedLine(img, (0,200), (200,200), (255,0,0), 10) #rgb 195, 70, 199\n",
    "\n",
    "img=cv2.rectangle(img, (384,0), (510,128), (0,0,255), 5) #rgb 195, 70, 199\n",
    "\n",
    "img=cv2.circle(img, (447,63), 63, (0,255,0), -1) #rgb 195, 70, 199\n",
    "#cv2.circle(img, center, radius, color_bgr, thickness)\n",
    "\n",
    "\n",
    "cv2.imshow('image',img)\n",
    "\n",
    "cv2.waitKey(0)\n",
    "cv2.destroyAllWindows()"
   ]
  },
  {
   "cell_type": "markdown",
   "metadata": {
    "Collapsed": "false"
   },
   "source": [
    "글자 쓰기"
   ]
  },
  {
   "cell_type": "code",
   "execution_count": null,
   "metadata": {
    "Collapsed": "false"
   },
   "outputs": [],
   "source": [
    "import cv2\n",
    "\n",
    "img = cv2.imread('pic/lena.jpg',1)\n",
    "\n",
    "img=cv2.line(img, (0,0), (200,200), (199,70,195), 10) #rgb 195, 70, 199\n",
    "#cv2.line(img, pt1, pt2, color_bgr, thickness)\n",
    "\n",
    "img=cv2.arrowedLine(img, (0,200), (200,200), (255,0,0), 10) #rgb 195, 70, 199\n",
    "\n",
    "img=cv2.rectangle(img, (384,0), (510,128), (0,0,255), 5) #rgb 195, 70, 199\n",
    "\n",
    "img=cv2.circle(img, (447,63), 63, (0,255,0), -1) #rgb 195, 70, 199\n",
    "#cv2.circle(img, center, radius, color_bgr, thickness)\n",
    "\n",
    "font = cv2.FONT_HERSHEY_SIMPLEX\n",
    "img = cv2.putText(img, 'OpenCV', (10,500), font, 4, (255,255,255),10, cv2.LINE_AA)\n",
    "#cv2.putText(img, text, org, fontface, fontscale, color, thickness, lineType)\n",
    "\n",
    "cv2.imshow('image',img)\n",
    "\n",
    "cv2.waitKey(0)\n",
    "cv2.destroyAllWindows()"
   ]
  },
  {
   "cell_type": "markdown",
   "metadata": {
    "Collapsed": "false"
   },
   "source": [
    "그림대신 검은 바탕화면을 사용해보자."
   ]
  },
  {
   "cell_type": "code",
   "execution_count": null,
   "metadata": {
    "Collapsed": "false"
   },
   "outputs": [],
   "source": [
    "import numpy as np\n",
    "import cv2\n",
    "\n",
    "#img = cv2.imread('lena.jpg',1)\n",
    "\n",
    "img=np.zeros([512,512,3], np.uint8)\n",
    "\n",
    "img=cv2.line(img, (0,0), (200,200), (199,70,195), 10) #rgb 195, 70, 199\n",
    "#cv2.line(img, pt1, pt2, color_bgr, thickness)\n",
    "\n",
    "img=cv2.arrowedLine(img, (0,200), (200,200), (255,0,0), 10) #rgb 195, 70, 199\n",
    "\n",
    "img=cv2.rectangle(img, (384,0), (510,128), (0,0,255), 5) #rgb 195, 70, 199\n",
    "\n",
    "img=cv2.circle(img, (447,63), 63, (0,255,0), -1) #rgb 195, 70, 199\n",
    "#cv2.circle(img, center, radius, color_bgr, thickness)\n",
    "\n",
    "font = cv2.FONT_HERSHEY_SIMPLEX\n",
    "img = cv2.putText(img, 'OpenCV', (10,500), font, 4, (255,255,255),10, cv2.LINE_AA)\n",
    "#cv2.putText(img, text, org, fontface, fontscale, color, thickness, lineType)\n",
    "\n",
    "cv2.imshow('image',img)\n",
    "\n",
    "cv2.waitKey(0)\n",
    "cv2.destroyAllWindows()"
   ]
  },
  {
   "cell_type": "markdown",
   "metadata": {
    "Collapsed": "false"
   },
   "source": [
    "글씨를 노란색으로 (0,255,255)"
   ]
  },
  {
   "cell_type": "code",
   "execution_count": null,
   "metadata": {
    "Collapsed": "false"
   },
   "outputs": [],
   "source": [
    "import numpy as np\n",
    "import cv2\n",
    "\n",
    "#img = cv2.imread('lena.jpg',1)\n",
    "\n",
    "img=np.zeros([512,512,3], np.uint8)\n",
    "\n",
    "img=cv2.line(img, (0,0), (200,200), (199,70,195), 10) #rgb 195, 70, 199\n",
    "#cv2.line(img, pt1, pt2, color_bgr, thickness)\n",
    "\n",
    "img=cv2.arrowedLine(img, (0,200), (200,200), (255,0,0), 10) #rgb 195, 70, 199\n",
    "\n",
    "img=cv2.rectangle(img, (384,0), (510,128), (0,0,255), 5) #rgb 195, 70, 199\n",
    "\n",
    "img=cv2.circle(img, (447,63), 63, (0,255,0), -1) #rgb 195, 70, 199\n",
    "#cv2.circle(img, center, radius, color_bgr, thickness)\n",
    "\n",
    "font = cv2.FONT_HERSHEY_SIMPLEX\n",
    "img = cv2.putText(img, 'OpenCV', (10,500), font, 4, (0,255,255),10, cv2.LINE_AA)\n",
    "#cv2.putText(img, text, org, fontface, fontscale, color, thickness, lineType)\n",
    "\n",
    "cv2.imshow('image',img)\n",
    "\n",
    "cv2.waitKey(0)\n",
    "cv2.destroyAllWindows()"
   ]
  },
  {
   "cell_type": "markdown",
   "metadata": {
    "Collapsed": "false"
   },
   "source": [
    "## 6. Setting Camera Parameters"
   ]
  },
  {
   "cell_type": "markdown",
   "metadata": {
    "Collapsed": "false"
   },
   "source": [
    "cap.set을 통해 resolution을 setting 할수 있으나, 실제 resolution은 카메라의 성능에 의해 결정된다.   \n",
    "cap.get을 통해 값을 인쇄해보면, setting한 값과 달라진것을 볼 수 있다."
   ]
  },
  {
   "cell_type": "code",
   "execution_count": null,
   "metadata": {
    "Collapsed": "false"
   },
   "outputs": [],
   "source": [
    "import cv2\n",
    "cap = cv2.VideoCapture(0)\n",
    "print(cap.get(cv2.CAP_PROP_FRAME_WIDTH))\n",
    "print(cap.get(cv2.CAP_PROP_FRAME_HEIGHT))\n",
    "\n",
    "cap.set(3, 3000) #every property has an associated number. 3: cv2.CAP_PROP_FRAME_WIDTH\n",
    "cap.set(4, 3000) # 4: cv2.CAP_PROP_FRAME_HEIGHT\n",
    "\n",
    "print(cap.get(3))\n",
    "print(cap.get(4))\n",
    "\n",
    "while(cap.isOpened()):\n",
    "    ret, frame = cap.read()\n",
    "    if ret == True:\n",
    "\n",
    "        gray = cv2.cvtColor(frame, cv2.COLOR_BGR2GRAY)\n",
    "        cv2.imshow('frame', gray)\n",
    "\n",
    "        if cv2.waitKey(1) & 0xFF == ord('q'):\n",
    "            break\n",
    "    else:\n",
    "        break\n",
    "\n",
    "cap.release()\n",
    "cv2.destroyAllWindows()"
   ]
  },
  {
   "cell_type": "markdown",
   "metadata": {
    "Collapsed": "false"
   },
   "source": [
    "## 7. Show Text on the Video"
   ]
  },
  {
   "cell_type": "markdown",
   "metadata": {
    "Collapsed": "false"
   },
   "source": [
    "비디오화면에 resolution을 표시해보자"
   ]
  },
  {
   "cell_type": "code",
   "execution_count": null,
   "metadata": {
    "Collapsed": "false"
   },
   "outputs": [],
   "source": [
    "import cv2\n",
    "cap = cv2.VideoCapture(0)\n",
    "print(cap.get(cv2.CAP_PROP_FRAME_WIDTH))\n",
    "print(cap.get(cv2.CAP_PROP_FRAME_HEIGHT))\n",
    "\n",
    "while(cap.isOpened()):\n",
    "    ret, frame = cap.read()\n",
    "    if ret == True:\n",
    "\n",
    "        font = cv2.FONT_HERSHEY_SIMPLEX\n",
    "        text = 'Width: '+ str(cap.get(3)) + ' Height:' + str(cap.get(4))\n",
    "       \n",
    "        frame = cv2.putText(frame, text, (10, 50), font, 1,\n",
    "                           (0, 255, 255), 2, cv2.LINE_AA)\n",
    "                #cv2.putText(img, text, org, fontface, fontscale, color, thickness, lineType)\n",
    "       \n",
    "        cv2.imshow('frame', frame)\n",
    "\n",
    "        if cv2.waitKey(1) & 0xFF == ord('q'):\n",
    "            break\n",
    "    else:\n",
    "        break\n",
    "\n",
    "cap.release()\n",
    "cv2.destroyAllWindows()"
   ]
  },
  {
   "cell_type": "markdown",
   "metadata": {
    "Collapsed": "false"
   },
   "source": [
    "## 8. Handle Mouse Events"
   ]
  },
  {
   "cell_type": "markdown",
   "metadata": {
    "Collapsed": "false"
   },
   "source": [
    "cv2에 있는 모든 event를 인쇄하자."
   ]
  },
  {
   "cell_type": "code",
   "execution_count": null,
   "metadata": {
    "Collapsed": "false"
   },
   "outputs": [],
   "source": [
    "import numpy as np\n",
    "import cv2\n",
    "\n",
    "events = [i for i in dir(cv2) if 'EVENT' in  i]\n",
    "print(events)\n",
    "\n"
   ]
  },
  {
   "cell_type": "markdown",
   "metadata": {
    "Collapsed": "false"
   },
   "source": [
    "이미지의 특정 지점에 왼쪽 마우스 클릭을 하면, 좌표가 나타나도록 해 보자."
   ]
  },
  {
   "cell_type": "code",
   "execution_count": null,
   "metadata": {
    "Collapsed": "false"
   },
   "outputs": [],
   "source": [
    "import numpy as np\n",
    "import cv2\n",
    "\n",
    "#events = [i for i in dir(cv2) if 'EVENT' in  i]\n",
    "#print(events)\n",
    "\n",
    "def click_event(event, x, y, flags, param):\n",
    "    if event == cv2.EVENT_LBUTTONDOWN:\n",
    "        print(x,', ' ,y)\n",
    "        font = cv2.FONT_HERSHEY_SIMPLEX\n",
    "        strXY = str(x) + ', '+ str(y)\n",
    "        cv2.putText(img, strXY, (x, y), font, 1, (255, 255, 0), 2)\n",
    "        cv2.imshow('image', img)\n",
    "\n",
    "img = np.zeros((512, 512, 3), np.uint8)\n",
    "#img = cv2.imread('lena.jpg')\n",
    "cv2.imshow('image', img)\n",
    "\n",
    "cv2.setMouseCallback('image', click_event)\n",
    "\n",
    "cv2.waitKey(0)\n",
    "cv2.destroyAllWindows()\n",
    "\n"
   ]
  },
  {
   "cell_type": "markdown",
   "metadata": {
    "Collapsed": "false"
   },
   "source": [
    "검은 색 이미지 대신 lena.jpg를 사용하고, 폰트 사이즈를 .5로 바꾸자."
   ]
  },
  {
   "cell_type": "code",
   "execution_count": null,
   "metadata": {
    "Collapsed": "false"
   },
   "outputs": [],
   "source": [
    "import numpy as np\n",
    "import cv2\n",
    "\n",
    "#events = [i for i in dir(cv2) if 'EVENT' in  i]\n",
    "#print(events)\n",
    "\n",
    "def click_event(event, x, y, flags, param):\n",
    "    if event == cv2.EVENT_LBUTTONDOWN:\n",
    "        print(x,', ' ,y)\n",
    "        font = cv2.FONT_HERSHEY_SIMPLEX\n",
    "        strXY = str(x) + ', '+ str(y)\n",
    "        cv2.putText(img, strXY, (x, y), font, .5, (255, 255, 0), 2)\n",
    "        cv2.imshow('image', img)\n",
    "\n",
    "#img = np.zeros((512, 512, 3), np.uint8)\n",
    "img = cv2.imread('pic/lena.jpg')\n",
    "cv2.imshow('image', img)\n",
    "\n",
    "cv2.setMouseCallback('image', click_event)\n",
    "\n",
    "cv2.waitKey(0)\n",
    "cv2.destroyAllWindows()\n",
    "\n"
   ]
  },
  {
   "cell_type": "markdown",
   "metadata": {
    "Collapsed": "false"
   },
   "source": [
    "왼쪽 마우스를 클릭하면 위치가 나타나고,   \n",
    "오른쪽 마우스 클릭하면, 그 위치에 있는 픽셀의 BGR 값이 나타나도록 해 보자.  \n",
    "조심해야 할 사항은 클릭한 픽셀의 화면 위치가 (x,y) 이지만, 매트릭스에서 실제 셀의 위치는 (y,x)이라는 사실이다."
   ]
  },
  {
   "cell_type": "code",
   "execution_count": null,
   "metadata": {
    "Collapsed": "false"
   },
   "outputs": [],
   "source": [
    "import numpy as np\n",
    "import cv2\n",
    "\n",
    "#events = [i for i in dir(cv2) if 'EVENT' in  i]\n",
    "#print(events)\n",
    "\n",
    "def click_event(event, x, y, flags, param):\n",
    "    if event == cv2.EVENT_LBUTTONDOWN:\n",
    "        print(x,', ' ,y)\n",
    "        font = cv2.FONT_HERSHEY_SIMPLEX\n",
    "        strXY = str(x) + ', '+ str(y)\n",
    "        cv2.putText(img, strXY, (x, y), font, .5, (255, 255, 0), 2)\n",
    "        cv2.imshow('image', img)\n",
    "    if event == cv2.EVENT_RBUTTONDOWN:\n",
    "        blue = img[y, x, 0]\n",
    "        green = img[y, x, 1]\n",
    "        red = img[y, x, 2]\n",
    "        font = cv2.FONT_HERSHEY_SIMPLEX\n",
    "        strBGR = str(blue) + ', '+ str(green)+ ', '+ str(red)\n",
    "        cv2.putText(img, strBGR, (x, y), font, .5, (0, 255, 255), 2)\n",
    "        cv2.imshow('image', img)\n",
    "\n",
    "#img = np.zeros((512, 512, 3), np.uint8)\n",
    "img = cv2.imread('pic/lena.jpg')\n",
    "cv2.imshow('image', img)\n",
    "\n",
    "cv2.setMouseCallback('image', click_event)\n",
    "\n",
    "cv2.waitKey(0)\n",
    "cv2.destroyAllWindows()\n",
    "\n"
   ]
  },
  {
   "cell_type": "markdown",
   "metadata": {
    "Collapsed": "false"
   },
   "source": [
    "## 9. More Mouse Event Examples"
   ]
  },
  {
   "cell_type": "markdown",
   "metadata": {
    "Collapsed": "false"
   },
   "source": [
    "클릭한 두 점을 연결하기 (연속)"
   ]
  },
  {
   "cell_type": "code",
   "execution_count": null,
   "metadata": {
    "Collapsed": "false"
   },
   "outputs": [],
   "source": [
    "import numpy as np\n",
    "import cv2\n",
    "\n",
    "def click_event(event, x, y, flags, param):\n",
    "    if event == cv2.EVENT_LBUTTONDOWN:\n",
    "        cv2.circle(img, (x, y), 3, (0, 0, 255), -1) # filled red circle\n",
    "        points.append((x, y))\n",
    "        if len(points) >=2:\n",
    "            cv2.line(img, points[-1], points[-2], (255, 0, 0), 5) # 마지막 2 점을 연결, 파란색\n",
    "        cv2.imshow('image', img)\n",
    "\n",
    "img = np.zeros((512, 512, 3), np.uint8)\n",
    "#img = cv2.imread('lena.jpg')\n",
    "cv2.imshow('image', img)\n",
    "points = []\n",
    "cv2.setMouseCallback('image', click_event)\n",
    "\n",
    "cv2.waitKey(0)\n",
    "cv2.destroyAllWindows()\n"
   ]
  },
  {
   "cell_type": "markdown",
   "metadata": {
    "Collapsed": "false"
   },
   "source": [
    "클릭한 위치의 칼러를 새로운 창에 나타내기"
   ]
  },
  {
   "cell_type": "code",
   "execution_count": null,
   "metadata": {
    "Collapsed": "false"
   },
   "outputs": [],
   "source": [
    "import numpy as np\n",
    "import cv2\n",
    "\n",
    "def click_event(event, x, y, flags, param):\n",
    "    if event == cv2.EVENT_LBUTTONDOWN:\n",
    "        blue = img[y, x, 0]\n",
    "        green = img[y, x, 1]\n",
    "        red = img[y, x , 2]\n",
    "        cv2.circle(img, (x, y), 3, (0, 0, 255), -1)\n",
    "        mycolorImage = np.zeros((512, 512, 3), np.uint8)\n",
    "\n",
    "        mycolorImage[:] = [blue, green, red]\n",
    "\n",
    "        cv2.imshow('color', mycolorImage)\n",
    "\n",
    "#img = np.zeros((512, 512, 3), np.uint8)\n",
    "img = cv2.imread('pic/lena.jpg')\n",
    "cv2.imshow('image', img)\n",
    "points = []\n",
    "cv2.setMouseCallback('image', click_event)\n",
    "\n",
    "cv2.waitKey(0)\n",
    "cv2.destroyAllWindows()"
   ]
  },
  {
   "cell_type": "markdown",
   "metadata": {
    "Collapsed": "false"
   },
   "source": [
    "## 10. cv.split, cv.merge, cv.resize, cv.add, cv.addWeighted, ROI"
   ]
  },
  {
   "cell_type": "code",
   "execution_count": null,
   "metadata": {
    "Collapsed": "false"
   },
   "outputs": [],
   "source": [
    "import numpy as np\n",
    "import cv2\n",
    "\n",
    "img = cv2.imread('pic/messi5.jpg')\n",
    "\n",
    "print(img.shape) # returns a tuple of numer of rows, colums, and channels\n",
    "print(img.size) # returns total number of pixels \n",
    "print(img.dtype) # returns Image datatype\n",
    "\n",
    "b,g,r = cv2.split(img)\n",
    "img = cv2.merge((b,g,r))\n",
    "\n",
    "cv2.imshow('image', img)\n",
    "\n",
    "cv2.waitKey(0)\n",
    "cv2.destroyAllWindows()"
   ]
  },
  {
   "cell_type": "markdown",
   "metadata": {
    "Collapsed": "false"
   },
   "source": [
    "ROI: region of interst"
   ]
  },
  {
   "cell_type": "markdown",
   "metadata": {
    "Collapsed": "false"
   },
   "source": [
    "공을 복사하여 다른 곳에 붙이고 싶다."
   ]
  },
  {
   "cell_type": "markdown",
   "metadata": {
    "Collapsed": "false"
   },
   "source": [
    "먼저 공의 위치를 알아야 한다. \n",
    "* 8절을 참고하여, 공의 포함하는 사각형의 위치를 결정하자.\n",
    "* 붙혀넣을 위치를 결정한다."
   ]
  },
  {
   "cell_type": "code",
   "execution_count": null,
   "metadata": {
    "Collapsed": "false"
   },
   "outputs": [],
   "source": [
    "import numpy as np\n",
    "import cv2\n",
    "\n",
    "#events = [i for i in dir(cv2) if 'EVENT' in  i]\n",
    "#print(events)\n",
    "\n",
    "def click_event(event, x, y, flags, param):\n",
    "    if event == cv2.EVENT_LBUTTONDOWN:\n",
    "        print(x,', ' ,y)\n",
    "        font = cv2.FONT_HERSHEY_SIMPLEX\n",
    "        strXY = str(x) + ', '+ str(y)\n",
    "        cv2.putText(img, strXY, (x, y), font, .5, (255, 255, 0), 2)\n",
    "        cv2.imshow('image', img)\n",
    "\n",
    "#img = np.zeros((512, 512, 3), np.uint8)\n",
    "img = cv2.imread('pic/messi5.jpg')\n",
    "cv2.imshow('image', img)\n",
    "\n",
    "cv2.setMouseCallback('image', click_event)\n",
    "\n",
    "cv2.waitKey(0)\n",
    "cv2.destroyAllWindows()\n",
    "\n"
   ]
  },
  {
   "cell_type": "markdown",
   "metadata": {
    "Collapsed": "false"
   },
   "source": [
    "공을 복사하여 다른 곳에 붙이자."
   ]
  },
  {
   "cell_type": "code",
   "execution_count": null,
   "metadata": {
    "Collapsed": "false"
   },
   "outputs": [],
   "source": [
    "import numpy as np\n",
    "import cv2\n",
    "\n",
    "img = cv2.imread('pic/messi5.jpg')\n",
    "\n",
    "print(img.shape) # returns a tuple of numer of rows, colums, and channels\n",
    "print(img.size) # returns total number of pixels \n",
    "print(img.dtype) # returns Image datatype\n",
    "\n",
    "b,g,r = cv2.split(img)\n",
    "img = cv2.merge((b,g,r))\n",
    "\n",
    "ball = img[280:340, 330:390]\n",
    "img[273:333, 100:160] = ball\n",
    "#img[173:233, 0:60] = ball\n",
    "#img[ 100:160, 273:333] = ball\n",
    "\n",
    "\n",
    "cv2.imshow('image', img)\n",
    "\n",
    "cv2.waitKey(0)\n",
    "cv2.destroyAllWindows()"
   ]
  },
  {
   "cell_type": "markdown",
   "metadata": {
    "Collapsed": "false"
   },
   "source": [
    "이미지 합하기"
   ]
  },
  {
   "cell_type": "code",
   "execution_count": null,
   "metadata": {
    "Collapsed": "false"
   },
   "outputs": [],
   "source": [
    "img = cv2.imread('pic/messi5.jpg')\n",
    "img2 = cv2.imread('pic/opencv-logo.png')\n",
    "cv2.imshow('image', img)\n",
    "cv2.imshow('image2', img2)\n",
    "cv2.waitKey(0)\n",
    "cv2.destroyAllWindows()"
   ]
  },
  {
   "cell_type": "code",
   "execution_count": null,
   "metadata": {
    "Collapsed": "false"
   },
   "outputs": [],
   "source": [
    "print(img.shape) # returns a tuple of numer of rows, colums, and channels\n",
    "print(img.size) # returns total number of pixels \n",
    "print(img.dtype) # returns Image datatype\n",
    "\n",
    "print(img2.shape) # returns a tuple of numer of rows, colums, and channels\n",
    "\n",
    "dst = cv2.add(img, img2)\n",
    "\n",
    "cv2.imshow('image', dst)\n",
    "\n",
    "cv2.waitKey(0)\n",
    "cv2.destroyAllWindows()"
   ]
  },
  {
   "cell_type": "markdown",
   "metadata": {
    "Collapsed": "false"
   },
   "source": [
    "size 가 달라서 에러 발생."
   ]
  },
  {
   "cell_type": "code",
   "execution_count": null,
   "metadata": {
    "Collapsed": "false"
   },
   "outputs": [],
   "source": [
    "img = cv2.imread('pic/messi5.jpg')\n",
    "img2 = cv2.imread('pic/opencv-logo.png')\n",
    "\n",
    "img = cv2.resize(img, (512,512))\n",
    "img2 = cv2.resize(img2, (512,512))\n",
    "\n",
    "dst = cv2.add(img, img2)\n",
    "\n",
    "cv2.imshow('image', dst)\n",
    "\n",
    "cv2.waitKey(0)\n",
    "cv2.destroyAllWindows()"
   ]
  },
  {
   "cell_type": "markdown",
   "metadata": {
    "Collapsed": "false"
   },
   "source": [
    "메시 70% 로고 30%  \n",
    "cv2.addWeighted 사용"
   ]
  },
  {
   "cell_type": "code",
   "execution_count": null,
   "metadata": {
    "Collapsed": "false"
   },
   "outputs": [],
   "source": [
    "img = cv2.imread('pic/messi5.jpg')\n",
    "img2 = cv2.imread('pic/opencv-logo.png')\n",
    "\n",
    "img = cv2.resize(img, (512,512))\n",
    "img2 = cv2.resize(img2, (512,512))\n",
    "\n",
    "#dst = cv2.add(img, img2)\n",
    "dst = cv2.addWeighted(img, .7, img2, .3, 0) #weight가 0.7, 0.3일때가 괜찮아 보임\n",
    "\n",
    "cv2.imshow('image', dst)\n",
    "\n",
    "cv2.waitKey(0)\n",
    "cv2.destroyAllWindows()"
   ]
  },
  {
   "cell_type": "markdown",
   "metadata": {
    "Collapsed": "false"
   },
   "source": [
    "### 과제 1   \n",
    "본인의 얼굴이나 이름이 나오는 동영상을 5초 정도 길이로 저장하여 제출하시오. 동영상 화면에 월 일 시간 분 초 (실시간) 가 나타나야 한다. (1점)   오늘 중에 과제함에 제출."
   ]
  },
  {
   "cell_type": "code",
   "execution_count": null,
   "metadata": {
    "Collapsed": "false"
   },
   "outputs": [],
   "source": []
  }
 ],
 "metadata": {
  "kernelspec": {
   "display_name": "Python 3",
   "language": "python",
   "name": "python3"
  },
  "language_info": {
   "codemirror_mode": {
    "name": "ipython",
    "version": 3
   },
   "file_extension": ".py",
   "mimetype": "text/x-python",
   "name": "python",
   "nbconvert_exporter": "python",
   "pygments_lexer": "ipython3",
   "version": "3.7.6"
  }
 },
 "nbformat": 4,
 "nbformat_minor": 4
}
