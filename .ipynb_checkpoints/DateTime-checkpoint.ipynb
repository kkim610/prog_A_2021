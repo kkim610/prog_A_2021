{
 "cells": [
  {
   "cell_type": "markdown",
   "metadata": {},
   "source": [
    "## source: Python Data Science Handbook    "
   ]
  },
  {
   "cell_type": "markdown",
   "metadata": {},
   "source": [
    "## Chapter 3.  p.188"
   ]
  },
  {
   "cell_type": "markdown",
   "metadata": {},
   "source": [
    "# Working with Time Series"
   ]
  },
  {
   "cell_type": "markdown",
   "metadata": {},
   "source": [
    "Pandas was developed in the context of financial modeling, so as you might expect, it contains a fairly extensive set of tools for working with dates, times, and timeindexed data. Date and time data comes in a few flavors, which we will discuss here:\n",
    "- *Time stamps* reference particular moments in time (e.g., July 4th, 2015, at 7:00\n",
    "a.m.).\n",
    "- *Time intervals* and *periods* reference a length of time between a particular begin‐\n",
    "ning and end point—for example, the year 2015. Periods usually reference a spe‐\n",
    "cial case of time intervals in which each interval is of uniform length and does\n",
    "not overlap (e.g., 24 hour-long periods constituting days).\n",
    "- *Time deltas* or *durations* reference an exact length of time (e.g., a duration of\n",
    "22.56 seconds)."
   ]
  },
  {
   "cell_type": "markdown",
   "metadata": {},
   "source": [
    "## Dates and Times in Python"
   ]
  },
  {
   "cell_type": "markdown",
   "metadata": {},
   "source": [
    "The Python world has a number of available representations of dates, times, deltas, and timespans. While the time series tools provided by Pandas tend to be the most\n",
    "useful for data science applications, it is helpful to see their relationship to other\n",
    "packages used in Python."
   ]
  },
  {
   "cell_type": "markdown",
   "metadata": {},
   "source": [
    "### Native Python dates and times: datetime and dateutil"
   ]
  },
  {
   "cell_type": "markdown",
   "metadata": {},
   "source": [
    "Python’s basic objects for working with dates and times reside in the built-in date\n",
    "time module. Along with the third-party dateutil module, you can use it to quickly\n",
    "perform a host of useful functionalities on dates and times. For example, you can\n",
    "manually build a date using the datetime type:\n",
    "In[1]: from datetime import datetime\n",
    " datetime(year=2015, month=7, day=4)\n",
    "Out[1]: datetime.datetime(2015, 7, 4, 0, 0)\n",
    "Or, using the dateutil module, you can parse dates from a variety of string formats:\n",
    "In[2]: from dateutil import parser\n",
    " date = parser.parse(\"4th of July, 2015\")\n",
    " date\n",
    "Out[2]: datetime.datetime(2015, 7, 4, 0, 0)\n",
    "Once you have a datetime object, you can do things like printing the day of the week:\n",
    "In[3]: date.strftime('%A')\n",
    "Out[3]: 'Saturday'\n",
    "In the final line, we’ve used one of the standard string format codes for printing dates\n",
    "(\"%A\"), which you can read about in the strftime section of Python’s datetime docu‐\n",
    "mentation. Documentation of other useful date utilities can be found in dateutil’s\n",
    "online documentation. A related package to be aware of is pytz, which contains tools\n",
    "for working with the most migraine-inducing piece of time series data: time zones.\n",
    "The power of datetime and dateutil lies in their flexibility and easy syntax: you can\n",
    "use these objects and their built-in methods to easily perform nearly any operation\n",
    "you might be interested in. Where they break down is when you wish to work with\n",
    "large arrays of dates and times: just as lists of Python numerical variables are subopti‐\n",
    "mal compared to NumPy-style typed numerical arrays, lists of Python datetime\n",
    "objects are suboptimal compared to typed arrays of encoded dates."
   ]
  }
 ],
 "metadata": {
  "kernelspec": {
   "display_name": "Python 3",
   "language": "python",
   "name": "python3"
  },
  "language_info": {
   "codemirror_mode": {
    "name": "ipython",
    "version": 3
   },
   "file_extension": ".py",
   "mimetype": "text/x-python",
   "name": "python",
   "nbconvert_exporter": "python",
   "pygments_lexer": "ipython3",
   "version": "3.7.4"
  }
 },
 "nbformat": 4,
 "nbformat_minor": 4
}
