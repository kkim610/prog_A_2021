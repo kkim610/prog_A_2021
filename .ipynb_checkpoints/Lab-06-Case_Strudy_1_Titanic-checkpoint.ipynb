{
 "cells": [
  {
   "cell_type": "markdown",
   "metadata": {
    "colab": {},
    "colab_type": "code",
    "id": "sYuHUeEVNieq"
   },
   "source": [
    "from google.colab import drive\n",
    "drive.mount('/content/drive')"
   ]
  },
  {
   "cell_type": "markdown",
   "metadata": {
    "colab": {},
    "colab_type": "code",
    "id": "YIlJAGIbNuT_"
   },
   "source": [
    "cd drive/My Drive/class 2020-1/DM-2020-1/Kaggle Study/titanic"
   ]
  },
  {
   "cell_type": "markdown",
   "metadata": {
    "colab_type": "text",
    "id": "xECaKNVjMlaD"
   },
   "source": [
    "# 타이타닉 튜토리얼 1 \n",
    "## Exploratory data analysis, visualization, machine learning"
   ]
  },
  {
   "cell_type": "code",
   "execution_count": 0,
   "metadata": {
    "colab": {},
    "colab_type": "code",
    "id": "ghmwr7LSMlaG"
   },
   "outputs": [],
   "source": [
    "import numpy as np\n",
    "import pandas as pd\n",
    "import matplotlib.pyplot as plt\n",
    "import seaborn as sns\n",
    "\n",
    "plt.style.use('seaborn')\n",
    "sns.set(font_scale=2.5) # 이 두줄은 본 필자가 항상 쓰는 방법입니다. matplotlib 의 기본 scheme 말고 seaborn scheme 을 세팅하고, 일일이 graph 의 font size 를 지정할 필요 없이 seaborn 의 font_scale 을 사용하면 편합니다.\n",
    "import missingno as msno\n",
    "\n",
    "#ignore warnings\n",
    "import warnings\n",
    "warnings.filterwarnings('ignore')\n",
    "\n",
    "%matplotlib inline"
   ]
  },
  {
   "cell_type": "markdown",
   "metadata": {
    "colab_type": "text",
    "id": "L_MTTXF0MlaK"
   },
   "source": [
    "프로세스\n",
    "\n",
    "1. 데이터셋 확인 - 가끔 null data가 존재합니다. 이를 확인하고, 향후 수정합니다.\n",
    "2. 탐색적 데이터 분석(exploratory data analysis) - 여러 feature 들을 개별적으로 분석하고, feature 들 간의 상관관계를 확인합니다. 여러 시각화 툴을 사용하여 insight를 얻습니다.\n",
    "3. feature engineering - 모델을 세우기에 앞서, 모델의 성능을 높일 수 있도록 feature 들을 engineering 합니다. one-hot encoding, class로 나누기, 구간으로 나누기, 텍스트 데이터 처리 등을 합니다.\n",
    "4. model 만들기 - sklearn 을 사용해 모델을 만듭니다. 파이썬에서 머신러닝을 할 때는 sklearn 을 사용하면 수많은 알고리즘을 일관된 문법으로 사용할 수 있습니다. 물론 딥러닝을 위해 tensorflow, pytorch 등을 사용할 수 도 있습니다.\n",
    "5. 모델 학습 및 예측 - trainset 을 가지고 모델을 학습시킨 후, testset 을 가지고 prediction 합니다.\n",
    "6. 모델 평가 - 예측 성능이 원하는 수준인지 판단합니다. 풀려는 문제에 따라 모델을 평가하는 방식도 달라집니다. 학습된 모델이 어떤 것을 학습하였는 지 확인해봅니다."
   ]
  },
  {
   "cell_type": "markdown",
   "metadata": {
    "colab_type": "text",
    "id": "sr05Q3LlMlaL"
   },
   "source": [
    "## 1. Dataset 확인"
   ]
  },
  {
   "cell_type": "markdown",
   "metadata": {
    "colab_type": "text",
    "id": "1Rp1cda5MlaL"
   },
   "source": [
    "* 파이썬에서 테이블화 된 데이터를 다루는 데 가장 최적화되어 있으며, 많이 쓰이는 라이브러리는 pandas 입니다.\n",
    "* 우리는 pandas 를 사용하여 데이터셋의 간단한 통계적 분석 부터, 복잡한 처리들을 간단한 메소드를 사용하여 해낼 수 있습니다.\n",
    "* 파이썬으로 데이터분석을 한다고 하면 반드시 능숙해져야 할 라이브러리이니, 여러 커널들을 공부하시면서 사용법에 익숙해지도록 반복 또 반복하시길 권장합니다.\n",
    "* 데이터셋은 보통 train set, test set 으로 나뉘어 있습니다."
   ]
  },
  {
   "cell_type": "code",
   "execution_count": 0,
   "metadata": {
    "colab": {},
    "colab_type": "code",
    "id": "2XBoMQLEMlaM"
   },
   "outputs": [],
   "source": [
    "df_train = pd.read_csv('data/train.csv')\n",
    "df_test = pd.read_csv('data/test.csv')"
   ]
  },
  {
   "cell_type": "code",
   "execution_count": 0,
   "metadata": {
    "colab": {},
    "colab_type": "code",
    "id": "R4i_NYUfMlaQ"
   },
   "outputs": [],
   "source": [
    "df_train.head()"
   ]
  },
  {
   "cell_type": "markdown",
   "metadata": {
    "colab_type": "text",
    "id": "-4JlotgQMlaU"
   },
   "source": [
    "우리가 다루는 문제에서 feature는 Pclass, Age, SibSp, Parch, Fare 이며, 예측하려는 target label 은 Survived 입니다."
   ]
  },
  {
   "cell_type": "code",
   "execution_count": 0,
   "metadata": {
    "colab": {},
    "colab_type": "code",
    "id": "q6ivO6xiY8p3"
   },
   "outputs": [],
   "source": [
    "pwd"
   ]
  },
  {
   "cell_type": "markdown",
   "metadata": {
    "colab_type": "text",
    "id": "WG1yK_2DMlaU"
   },
   "source": [
    "<img style=\"float: left;\" src=\"pic/fig_01.jpg\" width=\"500\">"
   ]
  },
  {
   "cell_type": "code",
   "execution_count": 0,
   "metadata": {
    "colab": {},
    "colab_type": "code",
    "id": "JKXKEAK2aQQm"
   },
   "outputs": [],
   "source": [
    "from IPython.display import Image\n",
    "Image('pic/fig_01.jpg')"
   ]
  },
  {
   "cell_type": "markdown",
   "metadata": {
    "colab_type": "text",
    "id": "NcayKs0fMlaV"
   },
   "source": [
    "pandas dataframe 에는 describe() 메소드가 있는 데, 이를 쓰면 각 feature 가 가진 통계치들을 반환해줍니다."
   ]
  },
  {
   "cell_type": "code",
   "execution_count": 0,
   "metadata": {
    "colab": {},
    "colab_type": "code",
    "id": "WiroVc2zMlaV"
   },
   "outputs": [],
   "source": [
    "df_train.describe()"
   ]
  },
  {
   "cell_type": "code",
   "execution_count": 0,
   "metadata": {
    "colab": {},
    "colab_type": "code",
    "id": "rrFJ-mtDMlaY"
   },
   "outputs": [],
   "source": [
    "df_test.describe()"
   ]
  },
  {
   "cell_type": "markdown",
   "metadata": {
    "colab_type": "text",
    "id": "7tWt7G9YMlab"
   },
   "source": [
    "* 테이블에서 보다시피, PassenserID 숫자와 다른, 그러니까 null data가 존재하는 열(feature)가 있는 것 같습니다.\n",
    "* 이를 좀 더 보기 편하도록 그래프로 시각화해서 살펴봅시다"
   ]
  },
  {
   "cell_type": "markdown",
   "metadata": {
    "colab_type": "text",
    "id": "JpMmIxzhMlac"
   },
   "source": [
    "## 1.1 Null data check"
   ]
  },
  {
   "cell_type": "code",
   "execution_count": 0,
   "metadata": {
    "colab": {},
    "colab_type": "code",
    "id": "gVFeoSx8Mlac"
   },
   "outputs": [],
   "source": [
    "df_train.columns"
   ]
  },
  {
   "cell_type": "code",
   "execution_count": 0,
   "metadata": {
    "colab": {},
    "colab_type": "code",
    "id": "eSz1flpNbFVh"
   },
   "outputs": [],
   "source": [
    "df_train.isnull().sum() / df_train.shape[0]"
   ]
  },
  {
   "cell_type": "code",
   "execution_count": 0,
   "metadata": {
    "colab": {},
    "colab_type": "code",
    "id": "8UElLbQvMlai"
   },
   "outputs": [],
   "source": [
    "df_test.isnull().sum() / df_test.shape[0]"
   ]
  },
  {
   "cell_type": "markdown",
   "metadata": {
    "colab_type": "text",
    "id": "0IM1Tn_VMlan"
   },
   "source": [
    "* Train, Test set 에서 Age(둘다 약 20%), Cabin(둘다 약 80%), Embarked(Train만 0.22%) null data 존재하는 것을 볼 수 있습니다.\n",
    "* msno 라는 라이브러리를 사용하면 null data의 존재를 더 쉽게 볼 수 있습니다."
   ]
  },
  {
   "cell_type": "code",
   "execution_count": 0,
   "metadata": {
    "colab": {},
    "colab_type": "code",
    "id": "u5jZqqQPMlao"
   },
   "outputs": [],
   "source": [
    "msno.matrix(df=df_train.iloc[:, :], figsize=(8, 8), color=(0.8, 0.5, 0.2))"
   ]
  },
  {
   "cell_type": "code",
   "execution_count": 0,
   "metadata": {
    "colab": {},
    "colab_type": "code",
    "id": "P6FqNm5RMlas"
   },
   "outputs": [],
   "source": [
    "msno.bar(df=df_train.iloc[:, :], figsize=(8, 8), color=(0.8, 0.5, 0.2))"
   ]
  },
  {
   "cell_type": "code",
   "execution_count": 0,
   "metadata": {
    "colab": {},
    "colab_type": "code",
    "id": "MsbpNug1Mlaw"
   },
   "outputs": [],
   "source": [
    "msno.bar(df=df_test.iloc[:, :], figsize=(8, 8), color=(0.8, 0.5, 0.2))"
   ]
  },
  {
   "cell_type": "markdown",
   "metadata": {
    "colab_type": "text",
    "id": "BN1vsaf_Mla0"
   },
   "source": [
    "## 1.2 Target label 확인"
   ]
  },
  {
   "cell_type": "markdown",
   "metadata": {
    "colab_type": "text",
    "id": "JyX_xAi7Mla0"
   },
   "source": [
    "* target label 이 어떤 distribution 을 가지고 있는 지 확인해봐야 합니다.\n",
    "* 지금 같은 binary classification 문제의 경우에서, 1과 0의 분포가 어떠냐에 따라 모델의 평가 방법이 달라 질 수 있습니다."
   ]
  },
  {
   "cell_type": "code",
   "execution_count": 0,
   "metadata": {
    "colab": {},
    "colab_type": "code",
    "id": "CVkPCFVQMla0"
   },
   "outputs": [],
   "source": [
    "df_train['Survived'].value_counts()"
   ]
  },
  {
   "cell_type": "code",
   "execution_count": 0,
   "metadata": {
    "colab": {},
    "colab_type": "code",
    "id": "yqGrG6b9Mla2"
   },
   "outputs": [],
   "source": [
    "type(df_train['Survived'].value_counts())"
   ]
  },
  {
   "cell_type": "code",
   "execution_count": 0,
   "metadata": {
    "colab": {},
    "colab_type": "code",
    "id": "h95mVXkVMla4"
   },
   "outputs": [],
   "source": [
    "f, ax = plt.subplots(1, 2, figsize=(18, 8))\n",
    "\n",
    "df_train['Survived'].value_counts().plot.pie(explode=[0, 0.1], autopct='%1.1f%%', ax=ax[0], shadow=True)\n",
    "ax[0].set_title('Pie plot - Survived')\n",
    "ax[0].set_ylabel('')\n",
    "sns.countplot('Survived', data=df_train, ax=ax[1])\n",
    "ax[1].set_title('Count plot - Survived')\n",
    "\n",
    "plt.show()\n"
   ]
  },
  {
   "cell_type": "markdown",
   "metadata": {
    "colab_type": "text",
    "id": "MucIskoVMla7"
   },
   "source": [
    "* 38.4 % 가 살아남았습니다.\n",
    "* target label 의 분포가 제법 균일(balanced)합니다. 불균일한 경우, 예를 들어서 100중 1이 99, 0이 1개인 경우에는 만약 모델이 모든것을 1이라 해도 정확도가 99%가 나오게 됩니다. 0을 찾는 문제라면 이 모델은 원하는 결과를 줄 수 없게 됩니다. 지금 문제에서는 그렇지 않으니 계속 진행하겠습니다."
   ]
  },
  {
   "cell_type": "markdown",
   "metadata": {
    "colab_type": "text",
    "id": "VN4R3p1jMla8"
   },
   "source": [
    "## 2. Exploratory data analysis"
   ]
  },
  {
   "cell_type": "markdown",
   "metadata": {
    "colab_type": "text",
    "id": "TtZDtBDmMla8"
   },
   "source": [
    "* 이제 본격적으로 데이터 분석을 해보겠습니다. 데이터는 매우 많습니다. 이 많은 데이터 안에 숨겨진 사실을 찾기 위해선 적절한 시각화가 필요합니다.\n",
    "* 시각화 라이브러리는 matplotlib, seaborn, plotly 등이 있습니다. 특정 목적에 맞는 소스코드를 정리해두어 필요할 때마다 참고하면 편합니다."
   ]
  },
  {
   "cell_type": "markdown",
   "metadata": {
    "colab_type": "text",
    "id": "CVEGuNDHMla9"
   },
   "source": [
    "### 2.1 Pclass"
   ]
  },
  {
   "cell_type": "markdown",
   "metadata": {
    "colab_type": "text",
    "id": "BvYLTiO5Mla-"
   },
   "source": [
    "* 먼저 Pclass 에 대해서 살펴보겠습니다. Pclass 는 ordinal(서수형) 데이터입니다. 서수형이란 카테고리이면서, 순서가 있는 데이터 타입입니다.\n",
    "* 먼저 Pclass 에 따른 생존률의 차이를 살펴보겠습니다. 엑셀의 피벗 차트와 유사한 작업을 하게 되는데, pandas dataframe 에서는 groupby 를 사용하면 쉽게 할 수 있습니다. 또한 pivot 이라는 메소드도 있습니다.\n",
    "* 'Pclass', 'Survived' 를 가져온 후, pclass 로 묶습니다. 그러고 나면 각 pclass 마다 0, 1 이 count가 되는데, count()로 각 pclass 별 인원수를 알 수 있고, sum()으로 생존자 수를 확인하면, 각 pclass 별 생존률을 계산할 수 있다.\n",
    "* 아래와 같이 count() 를 하면, 각 class 에 몇명이 있는 지 확인할 수 있으며, sum() 을 하면, 216 명중 생존한(survived=1)사람의 총합을 주게 됩니다"
   ]
  },
  {
   "cell_type": "code",
   "execution_count": 0,
   "metadata": {
    "colab": {},
    "colab_type": "code",
    "id": "Gc8ZIrDbMla_"
   },
   "outputs": [],
   "source": [
    "df_train[['Pclass', 'Survived']].groupby(['Pclass'], as_index=True).count()"
   ]
  },
  {
   "cell_type": "code",
   "execution_count": 0,
   "metadata": {
    "colab": {},
    "colab_type": "code",
    "id": "OIjCzpeOMlbB"
   },
   "outputs": [],
   "source": [
    "df_train[['Pclass', 'Survived']].groupby(['Pclass'], as_index=True).sum()"
   ]
  },
  {
   "cell_type": "markdown",
   "metadata": {
    "colab_type": "text",
    "id": "EKzK8Vv7MlbD"
   },
   "source": [
    "* pandas 의 crosstab 을 사용하면 좀 더 위 과정을 좀 더 수월하게 볼 수 있습니다."
   ]
  },
  {
   "cell_type": "code",
   "execution_count": 0,
   "metadata": {
    "colab": {},
    "colab_type": "code",
    "id": "SOK44bWLMlbD"
   },
   "outputs": [],
   "source": [
    "pd.crosstab(df_train['Pclass'], df_train['Survived'], margins=True).style.background_gradient(cmap='summer_r')"
   ]
  },
  {
   "cell_type": "code",
   "execution_count": 0,
   "metadata": {
    "colab": {},
    "colab_type": "code",
    "id": "wRQPAA9Bl1sV"
   },
   "outputs": [],
   "source": [
    "pd.crosstab(df_train['Pclass'], df_train['Survived'], margins=True)"
   ]
  },
  {
   "cell_type": "markdown",
   "metadata": {
    "colab_type": "text",
    "id": "QqgdeiEMMlbG"
   },
   "source": [
    "* grouped 객체에 mean() 을 하게 되면, 각 클래스별 생존률을 얻을 수 있습니다."
   ]
  },
  {
   "cell_type": "code",
   "execution_count": 0,
   "metadata": {
    "colab": {},
    "colab_type": "code",
    "id": "vFo774RjMlbH"
   },
   "outputs": [],
   "source": [
    "df_train[['Pclass', 'Survived']].groupby(['Pclass']).mean()"
   ]
  },
  {
   "cell_type": "code",
   "execution_count": 0,
   "metadata": {
    "colab": {},
    "colab_type": "code",
    "id": "PBJ-0ShtMlbK"
   },
   "outputs": [],
   "source": [
    "df_train[['Pclass', 'Survived']].groupby(['Pclass']).mean().sort_values(by='Survived', ascending=False)"
   ]
  },
  {
   "cell_type": "code",
   "execution_count": 0,
   "metadata": {
    "colab": {},
    "colab_type": "code",
    "id": "xkk9WQm8MlbP"
   },
   "outputs": [],
   "source": [
    "df_train[['Pclass', 'Survived']].groupby(['Pclass']).mean().sort_values(by='Survived', ascending=False).plot.bar()"
   ]
  },
  {
   "cell_type": "markdown",
   "metadata": {
    "colab_type": "text",
    "id": "ILAeSOSBMlbR"
   },
   "source": [
    "* Pclass 가 좋을 수록(1st) 생존률이 높은 것을 확인할 수 있습니다.\n",
    "* 좀 더 보기 쉽게 그래프를 그려보겠습니다. seaborn 의 countplot 을 이용하면, 특정 label 에 따른 개수를 확인해볼 수 있습니다."
   ]
  },
  {
   "cell_type": "code",
   "execution_count": 0,
   "metadata": {
    "colab": {},
    "colab_type": "code",
    "id": "vjVeFnywMlbS"
   },
   "outputs": [],
   "source": [
    "y_position = 1.02\n",
    "f, ax = plt.subplots(1, 2, figsize=(18, 8))\n",
    "df_train['Pclass'].value_counts().plot.bar(color=['#CD7F32','#FFDF00','#D3D3D3'], ax=ax[0])\n",
    "ax[0].set_title('Number of Passengers By Pclass', y=y_position)\n",
    "ax[0].set_ylabel('Count')\n",
    "sns.countplot('Pclass', hue='Survived', data=df_train, ax=ax[1])\n",
    "ax[1].set_title('Pclass: Survived vs Dead', y=y_position)\n",
    "plt.show()"
   ]
  },
  {
   "cell_type": "markdown",
   "metadata": {
    "colab_type": "text",
    "id": "uknw3BbCMlbW"
   },
   "source": [
    "* 클래스가 높을 수록, 생존 확률이 높은걸 확인할 수 있습니다. Pclass 1, 2, 3 순서대로 63%, 48%, 25% 입니다\n",
    "* 우리는 생존에 Pclass 가 큰 영향을 미친다고 생각해볼 수 있으며, 나중에 모델을 세울 때 이 feature 를 사용하는 것이 좋을 것이라 판단할 수 있습니다."
   ]
  },
  {
   "cell_type": "markdown",
   "metadata": {
    "colab_type": "text",
    "id": "yqs4T_qWMlbW"
   },
   "source": [
    "### 2.2 Sex"
   ]
  },
  {
   "cell_type": "markdown",
   "metadata": {
    "colab_type": "text",
    "id": "mJy6l-n_MlbX"
   },
   "source": [
    "* 이번에는 성별로 생존률이 어떻게 달라지는 지 확인해보겠습니다.\n",
    "* 마찬가지로 pandas groupby 와 seaborn countplot 을 사용해서 시각화해봅시다."
   ]
  },
  {
   "cell_type": "code",
   "execution_count": 0,
   "metadata": {
    "colab": {},
    "colab_type": "code",
    "id": "R4VoVqgeMlbX"
   },
   "outputs": [],
   "source": [
    "f, ax = plt.subplots(1, 2, figsize=(18, 8))\n",
    "df_train[['Sex', 'Survived']].groupby(['Sex'], as_index=True).mean().plot.bar(ax=ax[0])\n",
    "ax[0].set_title('Survived vs Sex')\n",
    "sns.countplot('Sex', hue='Survived', data=df_train, ax=ax[1])\n",
    "ax[1].set_title('Sex: Survived vs Dead')\n",
    "plt.show()"
   ]
  },
  {
   "cell_type": "markdown",
   "metadata": {
    "colab_type": "text",
    "id": "w9BC0zU6MlbZ"
   },
   "source": [
    "* 여자가 생존할 확률이 높습니다."
   ]
  },
  {
   "cell_type": "code",
   "execution_count": 0,
   "metadata": {
    "colab": {},
    "colab_type": "code",
    "id": "5DzrHEJoMlbZ"
   },
   "outputs": [],
   "source": [
    "df_train[['Sex', 'Survived']].groupby(['Sex'], as_index=False).mean().sort_values(by='Survived', ascending=False)"
   ]
  },
  {
   "cell_type": "code",
   "execution_count": 0,
   "metadata": {
    "colab": {},
    "colab_type": "code",
    "id": "VhX8uXNMMlbc"
   },
   "outputs": [],
   "source": [
    "pd.crosstab(df_train['Sex'], df_train['Survived'], margins=True).style.background_gradient(cmap='summer_r')"
   ]
  },
  {
   "cell_type": "markdown",
   "metadata": {
    "colab_type": "text",
    "id": "ftyEH8RlMlbg"
   },
   "source": [
    "* Pclass 와 마찬가지로, Sex 도 예측 모델에 쓰일 중요한 feature 임을 알 수 있습니다"
   ]
  },
  {
   "cell_type": "markdown",
   "metadata": {
    "colab_type": "text",
    "id": "WfLaEZIYMlbh"
   },
   "source": [
    "### 2.3 Both Sex and Pclass"
   ]
  },
  {
   "cell_type": "markdown",
   "metadata": {
    "colab_type": "text",
    "id": "fye0zaMWMlbh"
   },
   "source": [
    "* 이번에는 Sex, Pclass 두가지에 관하여 생존이 어떻게 달라지는 지 확인해 봅시다\n",
    "* seaborn 의 factorplot 을 이용하면, 손쉽게 3개의 차원으로 이루어진 그래프를 그릴 수 있습니다."
   ]
  },
  {
   "cell_type": "code",
   "execution_count": 0,
   "metadata": {
    "colab": {},
    "colab_type": "code",
    "id": "kJ6jpUqmMlbi"
   },
   "outputs": [],
   "source": [
    "sns.factorplot('Pclass', 'Survived', hue='Sex', data=df_train, size=6, aspect=1.5)"
   ]
  },
  {
   "cell_type": "markdown",
   "metadata": {
    "colab_type": "text",
    "id": "qkkTxXcdMlbl"
   },
   "source": [
    "* 모든 클래스에서 female 이 살 확률이 male 보다 높은 걸 알 수 있습니다.\n",
    "* 또한 남자, 여자 상관없이 클래스가 높을 수록 살 확률 높습니다. "
   ]
  },
  {
   "cell_type": "code",
   "execution_count": 0,
   "metadata": {
    "colab": {},
    "colab_type": "code",
    "id": "V9DrYaBKMlbm"
   },
   "outputs": [],
   "source": [
    "sns.factorplot('Sex', 'Survived', hue='Pclass', data=df_train, size=6, aspect=1.5)"
   ]
  },
  {
   "cell_type": "markdown",
   "metadata": {
    "colab_type": "text",
    "id": "LdIqueKqMlbp"
   },
   "source": [
    "* 위 그래프는 hue 대신 column 으로 하면 아래와 같아집니다"
   ]
  },
  {
   "cell_type": "code",
   "execution_count": 0,
   "metadata": {
    "colab": {},
    "colab_type": "code",
    "id": "qbGr6gEtMlbq"
   },
   "outputs": [],
   "source": [
    "sns.factorplot(x='Sex', y='Survived', col='Pclass',\n",
    "              data=df_train, satureation=.5, size=9, aspect=1)"
   ]
  },
  {
   "cell_type": "markdown",
   "metadata": {
    "colab_type": "text",
    "id": "yVonqvD0Mlbt"
   },
   "source": [
    "### 2.4 Age"
   ]
  },
  {
   "cell_type": "markdown",
   "metadata": {
    "colab_type": "text",
    "id": "lktqPzuEMlbu"
   },
   "source": [
    "이번에는 Age feature 를 살펴봅시다."
   ]
  },
  {
   "cell_type": "code",
   "execution_count": 0,
   "metadata": {
    "colab": {},
    "colab_type": "code",
    "id": "CinTEuGIMlbz"
   },
   "outputs": [],
   "source": [
    "df_train['Age'].describe()"
   ]
  },
  {
   "cell_type": "markdown",
   "metadata": {
    "colab_type": "text",
    "id": "_T7BqtdyMlb2"
   },
   "source": [
    "* 생존에 따른 Age의 histogram 을 그려보겠습니다."
   ]
  },
  {
   "cell_type": "code",
   "execution_count": 0,
   "metadata": {
    "colab": {},
    "colab_type": "code",
    "id": "DBLfVofEMlb3"
   },
   "outputs": [],
   "source": [
    "fig, ax = plt.subplots(1, 1, figsize=(9, 5))\n",
    "sns.kdeplot(df_train[df_train['Survived'] == 1]['Age'], ax=ax)\n",
    "sns.kdeplot(df_train[df_train['Survived'] == 0]['Age'], ax=ax)\n",
    "plt.legend(['Survived == 1', 'Survived == 0'])\n",
    "plt.show()"
   ]
  },
  {
   "cell_type": "markdown",
   "metadata": {
    "colab_type": "text",
    "id": "ycIa7m_ZMlb6"
   },
   "source": [
    "* 보시다시피, 생존자 중 나이가 어린 경우가 많음을 볼 수 있습니다."
   ]
  },
  {
   "cell_type": "code",
   "execution_count": 0,
   "metadata": {
    "colab": {},
    "colab_type": "code",
    "id": "wqndTfFBMlb7"
   },
   "outputs": [],
   "source": [
    "# Age distribution withing classes\n",
    "plt.figure(figsize=(8, 6))\n",
    "df_train['Age'][df_train['Pclass'] == 1].plot(kind='kde')\n",
    "df_train['Age'][df_train['Pclass'] == 2].plot(kind='kde')\n",
    "df_train['Age'][df_train['Pclass'] == 3].plot(kind='kde')\n",
    "\n",
    "plt.xlabel('Age')\n",
    "plt.title('Age Distribution within classes')\n",
    "plt.legend(['1st Class', '2nd Class', '3rd Class'])"
   ]
  },
  {
   "cell_type": "markdown",
   "metadata": {
    "colab_type": "text",
    "id": "DplhDjVmMlb9"
   },
   "source": [
    "* Class 가 높을 수록 나이 많은 사람의 비중이 커짐\n",
    "* 나이대가 변하면서 생존률이 어떻게 되는 지 보려고 합니다.\n",
    "* 나이범위를 점점 넓혀가며, 생존률이 어떻게 되는지 한번 봅시다."
   ]
  },
  {
   "cell_type": "code",
   "execution_count": 0,
   "metadata": {
    "colab": {},
    "colab_type": "code",
    "id": "bpoIcyFcMlb-"
   },
   "outputs": [],
   "source": [
    "cummulate_survival_ratio = []\n",
    "for i in range(1, 80):\n",
    "    cummulate_survival_ratio.append(df_train[df_train['Age'] < i]['Survived'].sum() / len(df_train[df_train['Age'] < i]['Survived']))\n",
    "    \n",
    "plt.figure(figsize=(7, 7))\n",
    "plt.plot(cummulate_survival_ratio)\n",
    "plt.title('Cummuative Survival rate change depending on range of Age', y=1.02)\n",
    "plt.ylabel('Survival rate')\n",
    "plt.xlabel('Range of Age(0~x)')\n",
    "plt.show()"
   ]
  },
  {
   "cell_type": "markdown",
   "metadata": {
    "colab_type": "text",
    "id": "nzP0Q5PVMlcA"
   },
   "source": [
    "* 나이가 어릴 수록 생존률이 확실히 높은것을 확인할 수 있습니다.\n",
    "* 우리는 이 나이가 중요한 feature 로 쓰일 수 있음을 확인했습니다."
   ]
  },
  {
   "cell_type": "markdown",
   "metadata": {
    "colab_type": "text",
    "id": "lPkYHFYhMlcB"
   },
   "source": [
    "### 2.5 Pclass, Sex, Age"
   ]
  },
  {
   "cell_type": "markdown",
   "metadata": {
    "colab_type": "text",
    "id": "Neo9NIIUMlcB"
   },
   "source": [
    "* 지금까지 본, Sex, Pclass, Age, Survived 모두에 대해서 보고싶습니다. 이를 쉽게 그려주는 것이 seaborn 의 violinplot 입니다.\n",
    "* x 축은 우리가 나눠서 보고싶어하는 case(여기선 Pclass, Sex) 를 나타내고, y 축은 보고 싶어하는 distribution(Age) 입니다."
   ]
  },
  {
   "cell_type": "code",
   "execution_count": 0,
   "metadata": {
    "colab": {},
    "colab_type": "code",
    "id": "Ie4dGFHFMlcC"
   },
   "outputs": [],
   "source": [
    "f,ax=plt.subplots(1,2,figsize=(18,8))\n",
    "sns.violinplot(\"Pclass\",\"Age\", hue=\"Survived\", data=df_train, scale='count', split=True,ax=ax[0])\n",
    "ax[0].set_title('Pclass and Age vs Survived')\n",
    "ax[0].set_yticks(range(0,110,10))\n",
    "sns.violinplot(\"Sex\",\"Age\", hue=\"Survived\", data=df_train, scale='count', split=True,ax=ax[1])\n",
    "ax[1].set_title('Sex and Age vs Survived')\n",
    "ax[1].set_yticks(range(0,110,10))\n",
    "plt.show()"
   ]
  },
  {
   "cell_type": "markdown",
   "metadata": {
    "colab_type": "text",
    "id": "CNTTFqAFMlcG"
   },
   "source": [
    "* 왼쪽 그림은 Pclass 별로 Age의 distribution 이 어떻게 다른지, 거기에 생존여부에 따라 구분한 그래프입니다.\n",
    "* 오른쪽 그림도 마찬가지 Sex, 생존에 따른 distribution 이 어떻게 다른지 보여주는 그래프입니다.\n",
    "* 생존만 봤을 때, 모든 클래스에서 나이가 어릴 수록 생존을 많이 한것을 볼 수 있습니다. (동의 못함. !! 생존 비율을 나타내지 않았기 때문에 이렇게 보이지 않는다.!!)\n",
    "* 오른쪽 그림에서 보면, 명확히 여자가 생존을 많이 한것을 볼 수 있습니다.\n",
    "* 여성과 아이를 먼저 챙긴 것을 볼 수 있습니다."
   ]
  },
  {
   "cell_type": "markdown",
   "metadata": {
    "colab_type": "text",
    "id": "-ooeDvQ7MlcH"
   },
   "source": [
    "### 2.6 Embarked"
   ]
  },
  {
   "cell_type": "markdown",
   "metadata": {
    "colab_type": "text",
    "id": "MJm5kvG8MlcH"
   },
   "source": [
    "* Embarked 는 탑승한 항구를 나타냅니다.\n",
    "* 위에서 해왔던 것과 비슷하게 탑승한 곳에 따르 생존률을 보겠습니다."
   ]
  },
  {
   "cell_type": "code",
   "execution_count": 0,
   "metadata": {
    "colab": {},
    "colab_type": "code",
    "id": "_nHeE0tLMlcI"
   },
   "outputs": [],
   "source": [
    "f, ax = plt.subplots(1, 1, figsize=(7, 7))\n",
    "df_train[['Embarked', 'Survived']].groupby(['Embarked'], as_index=True).mean().sort_values(by='Survived', ascending=False).plot.bar(ax=ax)"
   ]
  },
  {
   "cell_type": "markdown",
   "metadata": {
    "colab_type": "text",
    "id": "xTonyoG6MlcL"
   },
   "source": [
    "* 조금의 차이는 있지만 생존률은 좀 비슷한 거 같습니다. 그래도 C가 제일 높군요.\n",
    "* 모델에 얼마나 큰 영향을 미칠지는 모르겠지만, 그래도 사용하겠습니다.\n",
    "* 사실, 모델을 만들고 나면 우리가 사용한 feature 들이 얼마나 중요한 역할을 했는지 확인해볼 수 있습니다. 이는 추후에 모델을 만들고 난 다음에 살펴볼 것입니다.\n",
    "* 다른 feature 로 split 하여 한번 살펴보겠습니다"
   ]
  },
  {
   "cell_type": "code",
   "execution_count": 0,
   "metadata": {
    "colab": {},
    "colab_type": "code",
    "id": "qvixFu1fMlcM"
   },
   "outputs": [],
   "source": [
    "f,ax=plt.subplots(2, 2, figsize=(20,15))\n",
    "sns.countplot('Embarked', data=df_train, ax=ax[0,0])\n",
    "ax[0,0].set_title('(1) No. Of Passengers Boarded')\n",
    "sns.countplot('Embarked', hue='Sex', data=df_train, ax=ax[0,1])\n",
    "ax[0,1].set_title('(2) Male-Female Split for Embarked')\n",
    "sns.countplot('Embarked', hue='Survived', data=df_train, ax=ax[1,0])\n",
    "ax[1,0].set_title('(3) Embarked vs Survived')\n",
    "sns.countplot('Embarked', hue='Pclass', data=df_train, ax=ax[1,1])\n",
    "ax[1,1].set_title('(4) Embarked vs Pclass')\n",
    "plt.subplots_adjust(wspace=0.2, hspace=0.5)\n",
    "plt.show()"
   ]
  },
  {
   "cell_type": "markdown",
   "metadata": {
    "colab_type": "text",
    "id": "VWL_DhavMlcP"
   },
   "source": [
    "* Figure(1) - 전체적으로 봤을 때, S 에서 가장 많은 사람이 탑승했습니다.\n",
    "* Figure(2) - C와 Q 는 남녀의 비율이 비슷하고, S는 남자가 더 많습니다.\n",
    "* Figure(3) - 생존확률이 S 경우 많이 낮은 걸 볼 수 있습니다. (이전 그래프에서 봤었습니다)\n",
    "* Figure(4) - Class 로 split 해서 보니, C가 생존확률이 높은건 클래스가 높은 사람이 많이 타서 그렇습니다. S는 3rd class 가 많아서 생존확률이 낮게 나옵니다."
   ]
  },
  {
   "cell_type": "markdown",
   "metadata": {
    "colab_type": "text",
    "id": "yNBePBsZMlcP"
   },
   "source": [
    "### 2.7 Family - SibSp(형제 자매) + Parch(부모, 자녀)"
   ]
  },
  {
   "cell_type": "markdown",
   "metadata": {
    "colab_type": "text",
    "id": "Z-JSV3GLMlcQ"
   },
   "source": [
    "* SibSp와 Parch를 합하면 Family 가 될 것입니다. Family 로 합쳐서 분석해봅시다"
   ]
  },
  {
   "cell_type": "code",
   "execution_count": 0,
   "metadata": {
    "colab": {},
    "colab_type": "code",
    "id": "5iCzISOHMlcQ"
   },
   "outputs": [],
   "source": [
    "df_train['FamilySize'] = df_train['SibSp'] + df_train['Parch'] + 1 # 자신을 포함해야하니 1을 더합니다\n",
    "df_test['FamilySize'] = df_test['SibSp'] + df_test['Parch'] + 1 # 자신을 포함해야하니 1을 더합니다"
   ]
  },
  {
   "cell_type": "code",
   "execution_count": 0,
   "metadata": {
    "colab": {},
    "colab_type": "code",
    "id": "-PqNPWNcMlcV"
   },
   "outputs": [],
   "source": [
    "print(\"Maximum size of Family: \", df_train['FamilySize'].max())\n",
    "print(\"Minimum size of Family: \", df_train['FamilySize'].min())"
   ]
  },
  {
   "cell_type": "markdown",
   "metadata": {
    "colab_type": "text",
    "id": "zFzrhD1oMlcX"
   },
   "source": [
    "* FamilySize 와 생존의 관계를 한번 살펴봅시다"
   ]
  },
  {
   "cell_type": "code",
   "execution_count": 0,
   "metadata": {
    "colab": {},
    "colab_type": "code",
    "id": "zx4N9j8tMlcY"
   },
   "outputs": [],
   "source": [
    "f,ax=plt.subplots(1, 3, figsize=(40,10))\n",
    "sns.countplot('FamilySize', data=df_train, ax=ax[0])\n",
    "ax[0].set_title('(1) No. Of Passengers Boarded', y=1.02)\n",
    "\n",
    "sns.countplot('FamilySize', hue='Survived', data=df_train, ax=ax[1])\n",
    "ax[1].set_title('(2) Survived countplot depending on FamilySize',  y=1.02)\n",
    "\n",
    "df_train[['FamilySize', 'Survived']].groupby(['FamilySize'], as_index=True).mean().sort_values(by='Survived', ascending=False).plot.bar(ax=ax[2])\n",
    "ax[2].set_title('(3) Survived rate depending on FamilySize',  y=1.02)\n",
    "\n",
    "plt.subplots_adjust(wspace=0.2, hspace=0.5)\n",
    "plt.show()"
   ]
  },
  {
   "cell_type": "markdown",
   "metadata": {
    "colab_type": "text",
    "id": "AS8P1WIqMlcb"
   },
   "source": [
    "* Figure (1) - 가족크기가 1~11까지 있음을 볼 수 있습니다. 대부분 1명이고 그 다음으로 2, 3, 4명입니다.\n",
    "* Figure (2), (3) - 가족 크기에 따른 생존비교입니다. 가족이 4명인 경우가 가장 생존확률이 높습니다. 가족수가 많아질수록, (5, 6, 7, 8, 11) 생존확률이 낮아지네요. 가족수가 너무 작아도(1), 너무 커도(5, 6, 8, 11) 생존 확률이 작네요. 3~4명 선에서 생존확률이 높은 걸 확인할 수 있습니다."
   ]
  },
  {
   "cell_type": "markdown",
   "metadata": {
    "colab_type": "text",
    "id": "9zFCz1okMlcb"
   },
   "source": [
    "### 2.8 Fare"
   ]
  },
  {
   "cell_type": "markdown",
   "metadata": {
    "colab_type": "text",
    "id": "Gq1DMN-pMlcb"
   },
   "source": [
    "* Fare 는 탑승요금이며, contious feature 입니다. 한번 histogram 을 그려보겠습니다."
   ]
  },
  {
   "cell_type": "code",
   "execution_count": 0,
   "metadata": {
    "colab": {},
    "colab_type": "code",
    "id": "MREGZUVDMlcb"
   },
   "outputs": [],
   "source": [
    "fig, ax = plt.subplots(1, 1, figsize=(8, 8))\n",
    "g = sns.distplot(df_train['Fare'], color='b', label='Skewness : {:.2f}'.format(df_train['Fare'].skew()), ax=ax)\n",
    "g = g.legend(loc='best')"
   ]
  },
  {
   "cell_type": "markdown",
   "metadata": {
    "colab_type": "text",
    "id": "m7NGJCaiMlce"
   },
   "source": [
    "* distribution이 매우 비대칭인 것을 알 수 있습니다.(high skewness). 만약 이대로 모델에 넣어준다면 자칫 모델이 잘못 학습할 수도 있습니다. 몇개 없는 outlier 에 대해서 너무 민감하게 반응한다면, 실제 예측 시에 좋지 못한 결과를 부를 수 있습니다.\n",
    "* outlier의 영향을 줄이기 위해 Fare 에 log 를 취하겠습니다.\n",
    "* 여기서 우리는 pandas 의 유용한 기능을 사용할 겁니다. dataFrame 의 특정 columns 에 공통된 작업(함수)를 적용하고 싶으면 아래의 map, 또는 apply 를 사용하면 매우 손쉽게 적용할 수 있습니다.\n",
    "* 우리가 지금 원하는 것은 Fare columns 의 데이터 모두를 log 값 취하는 것인데, 파이썬의 간단한 lambda 함수를 이용해 간단한 로그를 적용하는 함수를 map 에 인수로 넣어주면, Fare columns 데이터에 그대로 적용이 됩니다. **매우 유용한 기능이니 꼭 숙지하세요!**"
   ]
  },
  {
   "cell_type": "code",
   "execution_count": 0,
   "metadata": {
    "colab": {},
    "colab_type": "code",
    "id": "7en-VFxaMlce"
   },
   "outputs": [],
   "source": [
    "# 아래 줄은 뒤늦게 발견하였습니다. 13번째 강의에 언급되니, 일단 따라치시고 넘어가면 됩니다.\n",
    "df_test.loc[df_test.Fare.isnull(), 'Fare'] = df_test['Fare'].mean() # testset 에 있는 nan value 를 평균값으로 치환합니다.\n",
    "\n",
    "df_train['Fare'] = df_train['Fare'].map(lambda i: np.log(i) if i > 0 else 0)\n",
    "df_test['Fare'] = df_test['Fare'].map(lambda i: np.log(i) if i > 0 else 0)"
   ]
  },
  {
   "cell_type": "code",
   "execution_count": 0,
   "metadata": {
    "colab": {},
    "colab_type": "code",
    "id": "u1SGceD9Mlch"
   },
   "outputs": [],
   "source": [
    "fig, ax = plt.subplots(1, 1, figsize=(8, 8))\n",
    "g = sns.distplot(df_train['Fare'], color='b', label='Skewness : {:.2f}'.format(df_train['Fare'].skew()), ax=ax)\n",
    "g = g.legend(loc='best')"
   ]
  },
  {
   "cell_type": "markdown",
   "metadata": {
    "colab_type": "text",
    "id": "lOCoXozbMlcj"
   },
   "source": [
    "* log 를 취하니, 이제 비대칭성이 많이 사라진 것을 볼 수 있습니다.\n",
    "* 우리는 이런 작업을 사용해 모델이 좀 더 좋은 성능을 내도록 할 수 있습니다.\n",
    "* 사실 방금한 것은 feature engineering 에 들어가는 부분인데, 여기서 작업했습니다.\n",
    "* 모델을 학습시키기 위해, 그리고 그 모델의 성능을 높이기 위해 feature 들에 여러 조작을 가하거나, 새로운 feature를 추가하는 것을 feature engineering 이라고 하는데, 우리는 이제 그것을 살펴볼 것입니다."
   ]
  },
  {
   "cell_type": "markdown",
   "metadata": {
    "colab_type": "text",
    "id": "jmInWWfJMlck"
   },
   "source": [
    "### 2.9 Cabin"
   ]
  },
  {
   "cell_type": "markdown",
   "metadata": {
    "colab_type": "text",
    "id": "0669TJ3DMlck"
   },
   "source": [
    "* 이 feature 는 NaN 이 대략 80% 이므로, 생존에 영향을 미칠 중요한 정보를 얻어내기가 쉽지는 않습니다.\n",
    "* 그러므로 우리가 세우려는 모델에 포함시키지 않도록 하겠습니다."
   ]
  },
  {
   "cell_type": "code",
   "execution_count": 0,
   "metadata": {
    "colab": {},
    "colab_type": "code",
    "id": "d6eQWGXXMlck"
   },
   "outputs": [],
   "source": [
    "df_train.head()"
   ]
  },
  {
   "cell_type": "markdown",
   "metadata": {
    "colab_type": "text",
    "id": "9YDa4UFqMlco"
   },
   "source": [
    "### 2.10 Ticket"
   ]
  },
  {
   "cell_type": "markdown",
   "metadata": {
    "colab_type": "text",
    "id": "dJl52FELMlcp"
   },
   "source": [
    "* 이 feature 는 NaN 은 없습니다. 일단 string data 이므로 우리가 어떤 작업들을 해주어야 실제 모델에 사용할 수 있는데, 이를 위해선 사실 아이디어가 필요합니다."
   ]
  },
  {
   "cell_type": "code",
   "execution_count": 0,
   "metadata": {
    "colab": {},
    "colab_type": "code",
    "id": "qZEMfQ9sMlcp"
   },
   "outputs": [],
   "source": [
    "df_train['Ticket'].value_counts()"
   ]
  },
  {
   "cell_type": "markdown",
   "metadata": {
    "colab_type": "text",
    "id": "QDax89RJMlcs"
   },
   "source": [
    "* 보시다시피, ticket number 는 매우 다양합니다. 우리는 여기서 어떤 특징을 이끌어내서 생존과 연결시킬 수 있을까요?\n",
    "* 여러분이 직접 한번 아이디어를 내보세요! 이것이 본격적인 캐글 레이스의 시작점입니다 ^^\n",
    "* 이 튜토리얼에서는 튜토리얼이니 일단 ticket 은 넘기도록 하겠습니다. 튜토리얼을 끝낸 후, 여러분의 모델의 성능을 향상시키기 위해 ticket 에서 정보를 이끌어내는 것도 좋겠네요!"
   ]
  },
  {
   "cell_type": "code",
   "execution_count": 0,
   "metadata": {
    "colab": {},
    "colab_type": "code",
    "id": "920BmseWMlct"
   },
   "outputs": [],
   "source": []
  }
 ],
 "metadata": {
  "colab": {
   "collapsed_sections": [
    "CVEGuNDHMla9",
    "yqs4T_qWMlbW",
    "WfLaEZIYMlbh",
    "yVonqvD0Mlbt",
    "lPkYHFYhMlcB",
    "-ooeDvQ7MlcH",
    "yNBePBsZMlcP",
    "9zFCz1okMlcb",
    "jmInWWfJMlck"
   ],
   "name": "1_Titanic.ipynb",
   "provenance": [],
   "toc_visible": true
  },
  "kernelspec": {
   "display_name": "Python 3",
   "language": "python",
   "name": "python3"
  },
  "language_info": {
   "codemirror_mode": {
    "name": "ipython",
    "version": 3
   },
   "file_extension": ".py",
   "mimetype": "text/x-python",
   "name": "python",
   "nbconvert_exporter": "python",
   "pygments_lexer": "ipython3",
   "version": "3.7.4"
  }
 },
 "nbformat": 4,
 "nbformat_minor": 1
}
