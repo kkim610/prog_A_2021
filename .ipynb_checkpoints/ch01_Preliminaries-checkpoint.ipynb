{
 "cells": [
  {
   "cell_type": "markdown",
   "metadata": {
    "Collapsed": "false"
   },
   "source": [
    "# 구글링: python for data analysis 2nd edition pdf github"
   ]
  },
  {
   "cell_type": "markdown",
   "metadata": {
    "Collapsed": "false"
   },
   "source": [
    "# Chapter 1  Preliminaries"
   ]
  },
  {
   "cell_type": "markdown",
   "metadata": {
    "Collapsed": "false"
   },
   "source": [
    "## 1.1 What Is This Book About?"
   ]
  },
  {
   "cell_type": "markdown",
   "metadata": {
    "Collapsed": "false"
   },
   "source": [
    "This book is concerned with the nuts and bolts of manipulating, processing, cleaning, and crunching data in Python."
   ]
  },
  {
   "cell_type": "markdown",
   "metadata": {
    "Collapsed": "false"
   },
   "source": [
    "### What Kinds of Data?"
   ]
  },
  {
   "cell_type": "markdown",
   "metadata": {
    "Collapsed": "false"
   },
   "source": [
    "- Tabular or spreadsheet-like data in which each column may be a different type\n",
    "(string, numeric, date, or otherwise). This includes most kinds of data commonly\n",
    "stored in relational databases or tab- or comma-delimited text files.\n",
    "- Multidimensional arrays (matrices).\n",
    "- Multiple tables of data interrelated by key columns (what would be primary or\n",
    "foreign keys for a SQL user).\n",
    "- Evenly or unevenly spaced time series."
   ]
  },
  {
   "cell_type": "markdown",
   "metadata": {
    "Collapsed": "false"
   },
   "source": [
    "## 1.2 Why Python for Data Analysis?"
   ]
  },
  {
   "cell_type": "markdown",
   "metadata": {
    "Collapsed": "false"
   },
   "source": [
    "### Python as Glue\n",
    "- Part of Python’s success in scientific computing is the ease of integrating C, C++, and FORTRAN code.  \n",
    "- Many companies and national labs have used Python to glue together decades’\n",
    "worth of legacy software."
   ]
  },
  {
   "cell_type": "markdown",
   "metadata": {
    "Collapsed": "false"
   },
   "source": [
    "### Solving the “Two-Language” Problem\n",
    "- In many organizations, it is common to research, prototype, and test new ideas using\n",
    "a more specialized computing language like SAS or R and then later port those ideas\n",
    "to be part of a larger production system written in, say, Java, C#, or C++.   \n",
    "- What people\n",
    "are increasingly finding is that Python is a suitable language not only for doing\n",
    "research and prototyping but also for building the production systems.   \n",
    "- Why maintain\n",
    "two development environments when one will suffice? "
   ]
  },
  {
   "cell_type": "markdown",
   "metadata": {
    "Collapsed": "false"
   },
   "source": [
    "### Why Not Python?\n",
    "- In an application with very low latency or demanding\n",
    "resource utilization requirements (e.g., a high-frequency trading system), the time\n",
    "spent programming in a lower-level (but also lower-productivity) language like C++\n",
    "to achieve the maximum possible performance might be time well spent.(As Python is an interpreted programming language, in general most Python code will\n",
    "run substantially slower than code written in a compiled language like Java or C++.)\n",
    "- Python can be a challenging language for building highly concurrent, multithreaded\n",
    "applications, particularly applications with many CPU-bound threads."
   ]
  },
  {
   "cell_type": "markdown",
   "metadata": {
    "Collapsed": "false"
   },
   "source": [
    "## 1.3 Essential Python Libraries"
   ]
  },
  {
   "cell_type": "markdown",
   "metadata": {
    "Collapsed": "false"
   },
   "source": [
    "### NumPy\n",
    "NumPy, short for Numerical Python, has long been a cornerstone of numerical computing\n",
    "in Python.   \n",
    "It provides the data structures, algorithms, and library glue needed\n",
    "for most scientific applications involving numerical data in Python.   \n",
    "NumPy contains, among other things:\n",
    "- A fast and efficient multidimensional array object ndarray\n",
    "- Functions for performing element-wise computations with arrays or mathematical\n",
    "operations between arrays\n",
    "- Tools for reading and writing array-based datasets to disk\n",
    "- Linear algebra operations, Fourier transform, and random number generation\n",
    "- A mature C API to enable Python extensions and native C or C++ code to access\n",
    "NumPy’s data structures and computational facilities\n",
    "\n",
    "Beyond the fast array-processing capabilities that NumPy adds to Python, one of its\n",
    "primary uses in data analysis is as a container for data to be passed between algorithms\n",
    "and libraries."
   ]
  },
  {
   "cell_type": "markdown",
   "metadata": {
    "Collapsed": "false"
   },
   "source": [
    "### pandas\n",
    "pandas provides high-level data structures and functions designed to make working\n",
    "with structured or tabular data fast, easy, and expressive.  \n",
    "The primary objects in pandas that will be used in this book are the DataFrame,\n",
    "a tabular, column-oriented data structure with both row and column labels, and the\n",
    "Series, a one-dimensional labeled array object.  \n",
    "Many features found in pandas are typically either part of the R\n",
    "core implementation or provided by add-on packages."
   ]
  },
  {
   "cell_type": "markdown",
   "metadata": {
    "Collapsed": "false"
   },
   "source": [
    "### matplotlib\n",
    "matplotlib is the most popular Python library for producing plots and other twodimensional\n",
    "data visualizations."
   ]
  },
  {
   "cell_type": "markdown",
   "metadata": {
    "Collapsed": "false"
   },
   "source": [
    "### IPython and Jupyter\n",
    "The IPython project began in 2001 as Fernando Pérez’s side project to make a better\n",
    "interactive Python interpreter.  \n",
    "\n",
    "In 2014, the IPython team announced the Jupyter project, a broader\n",
    "initiative to design language-agnostic interactive computing tools. The IPython web\n",
    "notebook became the Jupyter notebook, with support now for over 40 programming\n",
    "languages. The IPython system can now be used as a kernel (a programming language\n",
    "mode) for using Python with Jupyter."
   ]
  },
  {
   "cell_type": "markdown",
   "metadata": {
    "Collapsed": "false"
   },
   "source": [
    "### SciPy\n",
    "SciPy is a collection of packages addressing a number of different standard problem\n",
    "domains in scientific computing. Here is a sampling of the packages included:\n",
    "\n",
    "- scipy.integrate  \n",
    "Numerical integration routines and differential equation solvers\n",
    "\n",
    "- scipy.linalg  \n",
    "Linear algebra routines and matrix decompositions extending beyond those provided\n",
    "in numpy.linalg\n",
    "\n",
    "- scipy.optimize  \n",
    "Function optimizers (minimizers) and root finding algorithms\n",
    "\n",
    "- scipy.signal  \n",
    "Signal processing tools\n",
    "\n",
    "- scipy.sparse  \n",
    "Sparse matrices and sparse linear system solvers\n",
    "\n",
    "- scipy.special  \n",
    "Wrapper around SPECFUN, a Fortran library implementing many common\n",
    "mathematical functions, such as the gamma function\n",
    "\n",
    "- scipy.stats  \n",
    "Standard continuous and discrete probability distributions (density functions,\n",
    "samplers, continuous distribution functions), various statistical tests, and more\n",
    "descriptive statistics"
   ]
  },
  {
   "cell_type": "markdown",
   "metadata": {
    "Collapsed": "false"
   },
   "source": [
    "### scikit-learn\n",
    "Since the project’s inception in 2010, scikit-learn has become the premier generalpurpose\n",
    "machine learning toolkit for Python programmers."
   ]
  },
  {
   "cell_type": "markdown",
   "metadata": {
    "Collapsed": "false"
   },
   "source": [
    "### statsmodels\n",
    "statsmodels is a statistical analysis package that was seeded by work from Stanford\n",
    "University statistics professor Jonathan Taylor, who implemented a number of regression\n",
    "analysis models popular in the R programming language."
   ]
  },
  {
   "cell_type": "markdown",
   "metadata": {
    "Collapsed": "false"
   },
   "source": [
    "## 1.4 Installation and Setup"
   ]
  },
  {
   "cell_type": "markdown",
   "metadata": {
    "Collapsed": "false"
   },
   "source": [
    "### Windows\n",
    "To get started on Windows, download the Anaconda installer."
   ]
  },
  {
   "cell_type": "markdown",
   "metadata": {
    "Collapsed": "false"
   },
   "source": [
    "### Installing or Updating Python Packages\n",
    "At some point while reading, you may wish to install additional Python packages that\n",
    "are not included in the Anaconda distribution.   \n",
    "\n",
    "In general, these can be installed with\n",
    "the following command:  \n",
    "<p style=\"font-family: Courier New; font-size: 1.15em;\"> \n",
    "conda install package_name"
   ]
  },
  {
   "cell_type": "markdown",
   "metadata": {
    "Collapsed": "false"
   },
   "source": [
    "If this does not work, you may also be able to install the package using the pip package\n",
    "management tool:  \n",
    "<p style=\"font-family: Courier New; font-size: 1.15em;\">\n",
    "pip install package_name"
   ]
  },
  {
   "cell_type": "markdown",
   "metadata": {
    "Collapsed": "false"
   },
   "source": [
    "You can update packages by using the conda update command:  \n",
    "<p style=\"font-family: Courier New; font-size: 1.15em;\">\n",
    "conda update package_name"
   ]
  },
  {
   "cell_type": "markdown",
   "metadata": {
    "Collapsed": "false"
   },
   "source": [
    "pip also supports upgrades using the --upgrade flag:  \n",
    "<p style=\"font-family: Courier New; font-size: 1.15em;\">\n",
    "pip install --upgrade package_name\n"
   ]
  },
  {
   "cell_type": "markdown",
   "metadata": {
    "Collapsed": "false"
   },
   "source": [
    "<img style=\"float: left;\" src=\"pic/pic01.png\">"
   ]
  },
  {
   "cell_type": "markdown",
   "metadata": {
    "Collapsed": "false"
   },
   "source": [
    "- <span style=\"color:red\">While you can use both conda and pip to install packages,   \n",
    "you should not attempt to update conda packages with pip,   \n",
    "as doing so can lead to environment problems.   \n",
    "- <span style=\"color:red\">When using Anaconda or Miniconda,\n",
    "it’s best to first try updating with conda."
   ]
  },
  {
   "cell_type": "markdown",
   "metadata": {
    "Collapsed": "false"
   },
   "source": [
    "### Python 2 or Python 3"
   ]
  },
  {
   "cell_type": "markdown",
   "metadata": {
    "Collapsed": "false"
   },
   "source": [
    "### Integrated Development Environments (IDEs)"
   ]
  },
  {
   "cell_type": "markdown",
   "metadata": {
    "Collapsed": "false"
   },
   "source": [
    "- PyDev (free), an IDE built on the Eclipse platform\n",
    "- PyCharm from JetBrains (subscription-based for commercial users, free for open\n",
    "source developers)\n",
    "- Python Tools for Visual Studio (for Windows users)\n",
    "- Spyder (free), an IDE currently shipped with Anaconda"
   ]
  },
  {
   "cell_type": "markdown",
   "metadata": {
    "Collapsed": "false"
   },
   "source": [
    "## 1.5 Community and Conferences"
   ]
  },
  {
   "cell_type": "markdown",
   "metadata": {
    "Collapsed": "false"
   },
   "source": [
    "- pydata: A Google Group list for questions related to Python for data analysis and\n",
    "pandas\n",
    "- pystatsmodels: For statsmodels or pandas-related questions\n",
    "- Mailing list for scikit-learn (scikit-learn@python.org) and machine learning in\n",
    "Python, generally\n",
    "- numpy-discussion: For NumPy-related questions\n",
    "- scipy-user: For general SciPy or scientific Python questions"
   ]
  },
  {
   "cell_type": "markdown",
   "metadata": {
    "Collapsed": "false"
   },
   "source": [
    "- PyCon and EuroPython: The two main general Python conferences in North\n",
    "America and Europe, respectively\n",
    "- SciPy and EuroSciPy: Scientific-computing-oriented conferences in North America\n",
    "and Europe, respectively\n",
    "- PyData: A worldwide series of regional conferences targeted at data science and\n",
    "data analysis use cases\n",
    "- International and regional PyCon conferences (see http://pycon.org for a complete\n",
    "listing)"
   ]
  },
  {
   "cell_type": "markdown",
   "metadata": {
    "Collapsed": "false"
   },
   "source": [
    "## 1.6 Navigating This Book"
   ]
  },
  {
   "cell_type": "markdown",
   "metadata": {
    "Collapsed": "false"
   },
   "source": [
    "- **Interacting with the outside world**  \n",
    "Reading and writing with a variety of file formats and data stores  \n",
    "\n",
    "- **Preparation**  \n",
    "Cleaning, munging, combining, normalizing, reshaping, slicing and dicing, and\n",
    "transforming data for analysis  \n",
    "\n",
    "- **Transformation**  \n",
    "Applying mathematical and statistical operations to groups of datasets to derive\n",
    "new datasets (e.g., aggregating a large table by group variables)\n",
    "- **Modeling and computation**  \n",
    "Connecting your data to statistical models, machine learning algorithms, or other\n",
    "computational tools\n",
    "- **Presentation**   \n",
    "Creating interactive or static graphical visualizations or textual summaries"
   ]
  }
 ],
 "metadata": {
  "kernelspec": {
   "display_name": "Python 3",
   "language": "python",
   "name": "python3"
  },
  "language_info": {
   "codemirror_mode": {
    "name": "ipython",
    "version": 3
   },
   "file_extension": ".py",
   "mimetype": "text/x-python",
   "name": "python",
   "nbconvert_exporter": "python",
   "pygments_lexer": "ipython3",
   "version": "3.7.6"
  }
 },
 "nbformat": 4,
 "nbformat_minor": 4
}
