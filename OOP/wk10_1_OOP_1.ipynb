{
 "cells": [
  {
   "cell_type": "markdown",
   "metadata": {
    "Collapsed": "false"
   },
   "source": [
    "# wk10 OOP 1"
   ]
  },
  {
   "cell_type": "markdown",
   "metadata": {
    "Collapsed": "false"
   },
   "source": [
    "기말고사 관련 사항"
   ]
  },
  {
   "cell_type": "markdown",
   "metadata": {
    "Collapsed": "false"
   },
   "source": [
    "## OOP(Object Oriented Programming, 객체지향프로그래밍)"
   ]
  },
  {
   "cell_type": "markdown",
   "metadata": {
    "Collapsed": "false"
   },
   "source": [
    "* class(클래스) : object(객체)를 만들어내는 틀(기계)  예: 붕어빵 기계 \n",
    "* object : 클래스에 의해 (기본 형태가 결정된) 실체    "
   ]
  },
  {
   "cell_type": "markdown",
   "metadata": {
    "Collapsed": "false"
   },
   "source": [
    "<img style=\"float: left;\" src=\"pic/06_01_01.jpg\"  width=\"450\">"
   ]
  },
  {
   "cell_type": "markdown",
   "metadata": {
    "Collapsed": "false"
   },
   "source": [
    "<img style=\"float: left;\" src=\"pic/06_01_02.jpg\"  width=\"450\">"
   ]
  },
  {
   "cell_type": "code",
   "execution_count": 30,
   "metadata": {
    "Collapsed": "false"
   },
   "outputs": [],
   "source": [
    "class FishBread:\n",
    "\n",
    "    # Initializer / Instance Attributes\n",
    "    def __init__(self, name, ingred):\n",
    "        self.name = name\n",
    "        self.ingredient = ingred\n",
    "    def desc(self):\n",
    "        return self.ingredient+\"(으)로 만든 \" +self.name\n",
    "    def magic(self,new):\n",
    "        self.ingredient= new"
   ]
  },
  {
   "cell_type": "code",
   "execution_count": 24,
   "metadata": {
    "Collapsed": "false"
   },
   "outputs": [],
   "source": [
    "f=FishBread(\"붕어빵\",\"팥\")"
   ]
  },
  {
   "cell_type": "code",
   "execution_count": 25,
   "metadata": {
    "Collapsed": "false"
   },
   "outputs": [
    {
     "name": "stdout",
     "output_type": "stream",
     "text": [
      "<__main__.FishBread object at 0x0000019632C8FE08>\n"
     ]
    }
   ],
   "source": [
    "print(f)"
   ]
  },
  {
   "cell_type": "code",
   "execution_count": 26,
   "metadata": {
    "Collapsed": "false"
   },
   "outputs": [
    {
     "data": {
      "text/plain": [
       "__main__.FishBread"
      ]
     },
     "execution_count": 26,
     "metadata": {},
     "output_type": "execute_result"
    }
   ],
   "source": [
    "type(f)"
   ]
  },
  {
   "cell_type": "code",
   "execution_count": 27,
   "metadata": {
    "Collapsed": "false"
   },
   "outputs": [
    {
     "data": {
      "text/plain": [
       "'붕어빵'"
      ]
     },
     "execution_count": 27,
     "metadata": {},
     "output_type": "execute_result"
    }
   ],
   "source": [
    "f.name"
   ]
  },
  {
   "cell_type": "code",
   "execution_count": 28,
   "metadata": {
    "Collapsed": "false"
   },
   "outputs": [
    {
     "data": {
      "text/plain": [
       "'팥'"
      ]
     },
     "execution_count": 28,
     "metadata": {},
     "output_type": "execute_result"
    }
   ],
   "source": [
    "f.ingredient"
   ]
  },
  {
   "cell_type": "code",
   "execution_count": 31,
   "metadata": {
    "Collapsed": "false"
   },
   "outputs": [
    {
     "data": {
      "text/plain": [
       "'팥으로 만든붕어빵'"
      ]
     },
     "execution_count": 31,
     "metadata": {},
     "output_type": "execute_result"
    }
   ],
   "source": [
    "f.desc()"
   ]
  },
  {
   "cell_type": "code",
   "execution_count": 32,
   "metadata": {
    "Collapsed": "false"
   },
   "outputs": [],
   "source": [
    "g=FishBread(\"꿀잉어빵\", \"꿀\")"
   ]
  },
  {
   "cell_type": "code",
   "execution_count": 33,
   "metadata": {
    "Collapsed": "false"
   },
   "outputs": [
    {
     "name": "stdout",
     "output_type": "stream",
     "text": [
      "꿀\n"
     ]
    }
   ],
   "source": [
    "print(g.ingredient)"
   ]
  },
  {
   "cell_type": "code",
   "execution_count": 34,
   "metadata": {
    "Collapsed": "false"
   },
   "outputs": [
    {
     "name": "stdout",
     "output_type": "stream",
     "text": [
      "꿀잉어빵\n"
     ]
    }
   ],
   "source": [
    "print(g.name)"
   ]
  },
  {
   "cell_type": "code",
   "execution_count": 35,
   "metadata": {
    "Collapsed": "false"
   },
   "outputs": [
    {
     "name": "stdout",
     "output_type": "stream",
     "text": [
      "꿀으로 만든 꿀잉어빵\n"
     ]
    }
   ],
   "source": [
    "print(g.desc())"
   ]
  },
  {
   "cell_type": "code",
   "execution_count": 36,
   "metadata": {
    "Collapsed": "false"
   },
   "outputs": [],
   "source": [
    "h=FishBread(\"황금잉어빵\", \"치즈\")"
   ]
  },
  {
   "cell_type": "code",
   "execution_count": 37,
   "metadata": {
    "Collapsed": "false"
   },
   "outputs": [
    {
     "data": {
      "text/plain": [
       "'황금잉어빵'"
      ]
     },
     "execution_count": 37,
     "metadata": {},
     "output_type": "execute_result"
    }
   ],
   "source": [
    "h.name"
   ]
  },
  {
   "cell_type": "code",
   "execution_count": 38,
   "metadata": {
    "Collapsed": "false"
   },
   "outputs": [
    {
     "data": {
      "text/plain": [
       "'치즈'"
      ]
     },
     "execution_count": 38,
     "metadata": {},
     "output_type": "execute_result"
    }
   ],
   "source": [
    "h.ingredient"
   ]
  },
  {
   "cell_type": "code",
   "execution_count": 39,
   "metadata": {
    "Collapsed": "false"
   },
   "outputs": [
    {
     "data": {
      "text/plain": [
       "'치즈으로 만든 황금잉어빵'"
      ]
     },
     "execution_count": 39,
     "metadata": {},
     "output_type": "execute_result"
    }
   ],
   "source": [
    "h.desc()"
   ]
  },
  {
   "cell_type": "code",
   "execution_count": 40,
   "metadata": {
    "Collapsed": "false"
   },
   "outputs": [],
   "source": [
    "h.magic(\"금덩어리\")"
   ]
  },
  {
   "cell_type": "code",
   "execution_count": 41,
   "metadata": {
    "Collapsed": "false"
   },
   "outputs": [
    {
     "data": {
      "text/plain": [
       "'금덩어리'"
      ]
     },
     "execution_count": 41,
     "metadata": {},
     "output_type": "execute_result"
    }
   ],
   "source": [
    "h.ingredient"
   ]
  },
  {
   "cell_type": "code",
   "execution_count": 42,
   "metadata": {
    "Collapsed": "false"
   },
   "outputs": [
    {
     "data": {
      "text/plain": [
       "'황금잉어빵'"
      ]
     },
     "execution_count": 42,
     "metadata": {},
     "output_type": "execute_result"
    }
   ],
   "source": [
    "h.name"
   ]
  },
  {
   "cell_type": "code",
   "execution_count": 43,
   "metadata": {
    "Collapsed": "false"
   },
   "outputs": [
    {
     "data": {
      "text/plain": [
       "'금덩어리으로 만든 황금잉어빵'"
      ]
     },
     "execution_count": 43,
     "metadata": {},
     "output_type": "execute_result"
    }
   ],
   "source": [
    "h.desc()"
   ]
  },
  {
   "cell_type": "markdown",
   "metadata": {
    "Collapsed": "false"
   },
   "source": [
    "name, ingredient : 변수"
   ]
  },
  {
   "cell_type": "markdown",
   "metadata": {
    "Collapsed": "false"
   },
   "source": [
    "self: 클래스에 속한 객체 자신을 가르키는 변수"
   ]
  },
  {
   "cell_type": "markdown",
   "metadata": {
    "Collapsed": "false"
   },
   "source": [
    "desc(),magic(): 클래스에 속한 메쏘드(method)"
   ]
  },
  {
   "cell_type": "markdown",
   "metadata": {
    "Collapsed": "false"
   },
   "source": [
    "### 여러분은 이미 1학년 프로그래밍 실습시간에 객체지향프로그래밍을 사용하였다."
   ]
  },
  {
   "cell_type": "code",
   "execution_count": 44,
   "metadata": {
    "Collapsed": "false"
   },
   "outputs": [],
   "source": [
    "x=\"hannam\""
   ]
  },
  {
   "cell_type": "code",
   "execution_count": 47,
   "metadata": {
    "Collapsed": "false"
   },
   "outputs": [
    {
     "name": "stdout",
     "output_type": "stream",
     "text": [
      "<class 'str'>\n"
     ]
    }
   ],
   "source": [
    "print(type(x))"
   ]
  },
  {
   "cell_type": "markdown",
   "metadata": {
    "Collapsed": "false"
   },
   "source": [
    "x는 str 클래스에 속한 객체이다."
   ]
  },
  {
   "cell_type": "markdown",
   "metadata": {
    "Collapsed": "false"
   },
   "source": [
    "docstring: 아래 셀에서 shift-tab"
   ]
  },
  {
   "cell_type": "code",
   "execution_count": null,
   "metadata": {
    "Collapsed": "false"
   },
   "outputs": [],
   "source": [
    "x."
   ]
  },
  {
   "cell_type": "markdown",
   "metadata": {
    "Collapsed": "false"
   },
   "source": [
    "가능한 method 리스트: 커서를 . 다음에 위치시키고 tab"
   ]
  },
  {
   "cell_type": "code",
   "execution_count": null,
   "metadata": {
    "Collapsed": "false"
   },
   "outputs": [],
   "source": [
    "x."
   ]
  },
  {
   "cell_type": "code",
   "execution_count": 53,
   "metadata": {
    "Collapsed": "false"
   },
   "outputs": [
    {
     "data": {
      "text/plain": [
       "'HANNAM'"
      ]
     },
     "execution_count": 53,
     "metadata": {},
     "output_type": "execute_result"
    }
   ],
   "source": [
    "x.upper()"
   ]
  },
  {
   "cell_type": "markdown",
   "metadata": {
    "Collapsed": "false"
   },
   "source": [
    "아래 셀에서 shift-tab"
   ]
  },
  {
   "cell_type": "code",
   "execution_count": null,
   "metadata": {
    "Collapsed": "false"
   },
   "outputs": [],
   "source": [
    "h."
   ]
  },
  {
   "cell_type": "markdown",
   "metadata": {
    "Collapsed": "false"
   },
   "source": [
    "가능한 method 리스트: 커서를 . 다음에 위치시키고 tab"
   ]
  },
  {
   "cell_type": "code",
   "execution_count": null,
   "metadata": {
    "Collapsed": "false"
   },
   "outputs": [],
   "source": [
    "h."
   ]
  },
  {
   "cell_type": "code",
   "execution_count": null,
   "metadata": {
    "Collapsed": "false"
   },
   "outputs": [],
   "source": []
  },
  {
   "cell_type": "markdown",
   "metadata": {
    "Collapsed": "false"
   },
   "source": [
    "# 파이썬은 OOP 언어이다."
   ]
  },
  {
   "cell_type": "markdown",
   "metadata": {
    "Collapsed": "false"
   },
   "source": [
    "<br><br>"
   ]
  },
  {
   "cell_type": "code",
   "execution_count": 73,
   "metadata": {
    "Collapsed": "false"
   },
   "outputs": [],
   "source": [
    "class Character:\n",
    "    def __init__(self, name, initial_health, initial_defense):\n",
    "        self.name = name\n",
    "        self.health = initial_health\n",
    "        self.defense = initial_defense    \n",
    "        self.inventory = []\n",
    "        \n",
    "    def __str__(self):\n",
    "        s  = \"이름: \" + self.name\n",
    "        s += \" 체력: \" + str(self.health)\n",
    "        s += \" 방어력: \" + str(self.defense)       \n",
    "        s += \" 소지품목: \" + str(self.inventory)\n",
    "        return s\n",
    "    \n",
    "    def grab(self, item):\n",
    "        self.inventory.append(item)\n",
    "        if item==\"원기 회복의 구슬\":\n",
    "            self.health += 50\n",
    "        elif item==\"천 갑옷\":\n",
    "            self.defense += 15\n",
    "        \n",
    "    def get_health(self):\n",
    "        return self.health\n",
    "    "
   ]
  },
  {
   "cell_type": "code",
   "execution_count": 74,
   "metadata": {
    "Collapsed": "false"
   },
   "outputs": [
    {
     "name": "stdout",
     "output_type": "stream",
     "text": [
      "이름: 비티에스 체력: 20 방어력: 20 소지품목: []\n"
     ]
    }
   ],
   "source": [
    "bts = Character(\"비티에스\", 20, 20)\n",
    "print(str(bts))"
   ]
  },
  {
   "cell_type": "code",
   "execution_count": 75,
   "metadata": {
    "Collapsed": "false"
   },
   "outputs": [],
   "source": [
    "bts.grab(\"단검\")"
   ]
  },
  {
   "cell_type": "code",
   "execution_count": 76,
   "metadata": {
    "Collapsed": "false"
   },
   "outputs": [
    {
     "name": "stdout",
     "output_type": "stream",
     "text": [
      "이름: 비티에스 체력: 20 방어력: 20 소지품목: ['단검']\n"
     ]
    }
   ],
   "source": [
    "print(str(bts))"
   ]
  },
  {
   "cell_type": "code",
   "execution_count": 77,
   "metadata": {
    "Collapsed": "false"
   },
   "outputs": [],
   "source": [
    "bts.grab(\"원기 회복의 구슬\")"
   ]
  },
  {
   "cell_type": "code",
   "execution_count": 78,
   "metadata": {
    "Collapsed": "false"
   },
   "outputs": [
    {
     "name": "stdout",
     "output_type": "stream",
     "text": [
      "이름: 비티에스 체력: 70 방어력: 20 소지품목: ['단검', '원기 회복의 구슬']\n"
     ]
    }
   ],
   "source": [
    "print(str(bts))"
   ]
  },
  {
   "cell_type": "code",
   "execution_count": 79,
   "metadata": {
    "Collapsed": "false"
   },
   "outputs": [],
   "source": [
    "bts.grab(\"천 갑옷\")"
   ]
  },
  {
   "cell_type": "code",
   "execution_count": 80,
   "metadata": {
    "Collapsed": "false"
   },
   "outputs": [
    {
     "name": "stdout",
     "output_type": "stream",
     "text": [
      "이름: 비티에스 체력: 70 방어력: 35 소지품목: ['단검', '원기 회복의 구슬', '천 갑옷']\n"
     ]
    }
   ],
   "source": [
    "print(str(bts))"
   ]
  },
  {
   "cell_type": "code",
   "execution_count": 81,
   "metadata": {
    "Collapsed": "false"
   },
   "outputs": [
    {
     "name": "stdout",
     "output_type": "stream",
     "text": [
      "70\n"
     ]
    }
   ],
   "source": [
    "print(bts.get_health())"
   ]
  },
  {
   "cell_type": "code",
   "execution_count": null,
   "metadata": {
    "Collapsed": "false"
   },
   "outputs": [],
   "source": []
  },
  {
   "cell_type": "code",
   "execution_count": null,
   "metadata": {
    "Collapsed": "false"
   },
   "outputs": [],
   "source": []
  },
  {
   "cell_type": "code",
   "execution_count": null,
   "metadata": {
    "Collapsed": "false"
   },
   "outputs": [],
   "source": []
  },
  {
   "cell_type": "code",
   "execution_count": null,
   "metadata": {
    "Collapsed": "false"
   },
   "outputs": [],
   "source": []
  },
  {
   "cell_type": "code",
   "execution_count": null,
   "metadata": {
    "Collapsed": "false"
   },
   "outputs": [],
   "source": []
  },
  {
   "cell_type": "code",
   "execution_count": null,
   "metadata": {
    "Collapsed": "false"
   },
   "outputs": [],
   "source": []
  },
  {
   "cell_type": "markdown",
   "metadata": {
    "Collapsed": "false"
   },
   "source": [
    "<br><br><br>\n",
    "<span style=\"color:red\">연습문제 6.1.1 </span> <br><br>\n",
    "아래 프로그램에 <span style=\"color:red\">Tile</span> class 를 정의하라. 이 class 의 body에는 <span style=\"color:red\">pass</span> 문장을 사용하라. 모두 합하여 2줄의 코드가 더하여진다."
   ]
  },
  {
   "cell_type": "code",
   "execution_count": null,
   "metadata": {
    "Collapsed": "false"
   },
   "outputs": [],
   "source": [
    "# Define an empty Tile class \n",
    "\n",
    "\n",
    "\n",
    "    "
   ]
  },
  {
   "cell_type": "code",
   "execution_count": null,
   "metadata": {
    "Collapsed": "false"
   },
   "outputs": [],
   "source": [
    "###################################################\n",
    "# Testing code\n",
    "print(Tile)\n",
    "\n",
    "####################################################\n",
    "# Output of testing code\n",
    "\n",
    "# <class '__main__.Tile'>"
   ]
  },
  {
   "cell_type": "markdown",
   "metadata": {
    "Collapsed": "false"
   },
   "source": [
    "<br><br><br>\n",
    "<span style=\"color:red\">연습문제 6.1.2 </span> <br><br>\n",
    "아래 프로그램에 <span style=\"color:red\">Tile</span> class 에 속하는 object를 두 개를 만들어라. 하나를 <span style=\"color:red\">my_tile</span> 이라 하고, 다른 하나를 <span style=\"color:red\">your_tile</span> 이라 하라. "
   ]
  },
  {
   "cell_type": "code",
   "execution_count": null,
   "metadata": {
    "Collapsed": "false"
   },
   "outputs": [],
   "source": [
    "class Tile:\n",
    "    pass\n",
    "    \n",
    "# Create an instance of a Tile object \n",
    "\n",
    "    \n",
    "    "
   ]
  },
  {
   "cell_type": "code",
   "execution_count": null,
   "metadata": {
    "Collapsed": "false"
   },
   "outputs": [],
   "source": [
    "###################################################\n",
    "# Testing code \n",
    "print(my_tile)\n",
    "print(type(my_tile))\n",
    "print(your_tile)\n",
    "print(type(your_tile))\n",
    "\n",
    "####################################################\n",
    "# Output of testing code\n",
    "\n",
    "#<__main__.Tile object>\n",
    "#<class '__main__.Tile'>\n",
    "#<__main__.Tile object>\n",
    "#<class '__main__.Tile'>"
   ]
  },
  {
   "cell_type": "markdown",
   "metadata": {
    "Collapsed": "false"
   },
   "source": [
    "<br><br><br>\n",
    "<span style=\"color:red\">연습문제 6.1.3 </span> <br><br>\n",
    "<span style=\"color:red\">Tile</span> 클래스 의 <span style=\"color:red\">\\_\\_init\\_\\_</span> 메쏘드 를 코딩하고, 두 개의 tile 을 만들어라.<br>\n",
    "\n",
    "1. <span style=\"color:red\">\\_\\_init\\_\\_</span> 메쏘드에는 항상 필수적으로 들어가는 파라메터 <span style=\"color:red\">self</span>가 있어야 하며, 이 문제에서 요구하는  파라메터는 <span style=\"color:red\">num</span> 이라 하라.<br>\n",
    "<span style=\"color:red\">\\_\\_init\\_\\_</span> 메쏘드의 body에서는 필드 <span style=\"color:red\">number</span>는 <span style=\"color:red\">num</span> 값을 갖는다.\n",
    "\n",
    "2. 두개의 tile 중 하나를 <span style=\"color:red\">my_tile</span> 이라 하며, <span style=\"color:red\">my_tile</span> 의 <span style=\"color:red\">number</span> 필드(field)의 값은 3 이다.<br>\n",
    "다른 하나는 <span style=\"color:red\">your_tile</span> 이라 하고, <span style=\"color:red\">number</span> 필드의 값은 4 이다.<br>\n"
   ]
  },
  {
   "cell_type": "code",
   "execution_count": null,
   "metadata": {
    "Collapsed": "false"
   },
   "outputs": [],
   "source": [
    "class Tile:\n",
    "    \n",
    "    # definition of intializer\n",
    "\n",
    "    \n",
    "# create two tiles with numbers 3 and 4   \n",
    "\n",
    "\n",
    "    "
   ]
  },
  {
   "cell_type": "code",
   "execution_count": null,
   "metadata": {
    "Collapsed": "false"
   },
   "outputs": [],
   "source": [
    "###################################################\n",
    "# Testing code\n",
    "print(my_tile)\n",
    "print(my_tile.number)\n",
    "print(your_tile)\n",
    "print(your_tile.number)\n",
    "\n",
    "####################################################\n",
    "# Output of testing code\n",
    "\n",
    "#<__main__.Tile object>\n",
    "#3\n",
    "#<__main__.Tile object>\n",
    "#4"
   ]
  },
  {
   "cell_type": "markdown",
   "metadata": {
    "Collapsed": "false"
   },
   "source": [
    "<br><br><br>\n",
    "<span style=\"color:red\">연습문제 6.1.4 </span> <br><br>\n",
    "1) tile과 연관된 number를 반환하는 메쏘드 <span style=\"color:red\">get_number</span>를 코딩하라.<br>\n",
    "항상 그러듯이, 이 메쏘드의 첫 번째 파라메터는 <span style=\"color:red\">self</span> 이다.<br>\n",
    "2) 변수 <span style=\"color:red\">tile_number</span>는,  <span style=\"color:red\">my_tile</span> 에서 이 메쏘드를 호출하여 반환되는 값을 갖게하라. "
   ]
  },
  {
   "cell_type": "code",
   "execution_count": null,
   "metadata": {
    "Collapsed": "false"
   },
   "outputs": [],
   "source": [
    "class Tile:\n",
    "    \n",
    "    def __init__(self, num):\n",
    "        self.number = num\n",
    "        \n",
    "    # definition of getter for number\n",
    "\n",
    "    \n",
    "my_tile = Tile(3)\n",
    "\n",
    "# get the number of my_tile and assign to tile_number\n",
    "# Note \"tile_number = my_tile.number\" works, but is incorrect\n",
    "\n",
    "    \n",
    "    "
   ]
  },
  {
   "cell_type": "code",
   "execution_count": null,
   "metadata": {
    "Collapsed": "false"
   },
   "outputs": [],
   "source": [
    "###################################################\n",
    "# Testing code\n",
    "print(my_tile)\n",
    "print(tile_number)\n",
    "\n",
    "####################################################\n",
    "# Output of testing code\n",
    "\n",
    "#<__main__.Tile object>\n",
    "#3"
   ]
  },
  {
   "cell_type": "markdown",
   "metadata": {
    "Collapsed": "false"
   },
   "source": [
    "<br><br><br>\n",
    "<span style=\"color:red\">연습문제 6.1.5 </span> <br><br>\n",
    "<span style=\"color:red\">Tile</span> class 에 <span style=\"color:red\">exposed</span> 라는 필드(field) 를 정의하고, 이 필드를 이용하는 3가지 메쏘드를 코딩하라.<br>\n",
    "tile 의 number 가 player에게 노출되면 <span style=\"color:red\">exposed</span> 는 <span style=\"color:red\">True</span> 가 되며, 숨겨지면(안 보이면) <span style=\"color:red\">False</span> 가 된다. <br><br>\n",
    "1) <span style=\"color:red\">Tile</span> 객체에 이 필드를 추가하기 위하여, 파라메터 <span style=\"color:red\">exp</span> 를 <span style=\"color:red\">\\_\\_init\\_\\_</span> 메쏘드에 추가 하여야 하며,  <span style=\"color:red\">exposed</span> 필드가 이 값(즉 <span style=\"color:red\">exp</span>) 을 갖도록 assign 해야 한다. \n",
    "\n",
    "2) <span style=\"color:red\">Tile</span> 클래스 에서,\n",
    "* <span style=\"color:red\">is_exposed</span> 는 <span style=\"color:red\">exposed</span> 필드의 값을 반환한다.<br>\n",
    "* <span style=\"color:red\">expose_tile</span> 는 <span style=\"color:red\">exposed</span> 필드의 값을 <span style=\"color:red\">True</span> 로 만든다.\n",
    "* <span style=\"color:red\">hide_tile</span> 는 <span style=\"color:red\">exposed</span> 필드의 값을 <span style=\"color:red\">False</span> 로 만든다."
   ]
  },
  {
   "cell_type": "code",
   "execution_count": null,
   "metadata": {
    "Collapsed": "false"
   },
   "outputs": [],
   "source": [
    "class Tile:\n",
    "    \n",
    "    # definition of intializer\n",
    "    def __init__(self, num):\n",
    "        self.number = num\n",
    "        \n",
    "    \n",
    "    def get_number(self):\n",
    "        return self.number\n",
    "    \n",
    "    # check whether tile is exposed\n",
    "    \n",
    "    # expose the tile\n",
    "    \n",
    "    # hide the tile       \n",
    "    \n",
    "    \n",
    "# create a Tile called my_tile with number 3 that is exposed    \n",
    "my_tile = Tile(3, True)\n",
    "\n",
    "    "
   ]
  },
  {
   "cell_type": "code",
   "execution_count": null,
   "metadata": {
    "Collapsed": "false"
   },
   "outputs": [],
   "source": [
    "###################################################\n",
    "# Testing code\n",
    "print(my_tile)\n",
    "print(my_tile.is_exposed())\n",
    "my_tile.hide_tile()\n",
    "print(my_tile.is_exposed())\n",
    "my_tile.expose_tile()\n",
    "print(my_tile.is_exposed())\n",
    "\n",
    "####################################################\n",
    "# Output of testing code\n",
    "\n",
    "#<__main__.Tile object>\n",
    "#True\n",
    "#False\n",
    "#True"
   ]
  },
  {
   "cell_type": "markdown",
   "metadata": {
    "Collapsed": "false"
   },
   "source": [
    "<br><br><br>\n",
    "<span style=\"color:red\">연습문제 6.1.6 </span> <br><br>\n",
    "<span style=\"color:red\">Tile</span> 객체를 인쇄하면, <span style=\"color:red\">\"<\\_\\_main\\_\\_.Tileobject>\"</span> 라는 형태의 메세지가 인쇄된다.<br>\n",
    "이 메세지는 tile 클래스에 속하는 객체라는 것을 나타낸다. 그러나 그 객체에 저장된 데이터에 관한 정보는 알려주지 않는다.<br>\n",
    "하지만, <span style=\"color:red\">\\_\\_str\\_\\_</span> 메쏘드를 정의하면, 객체를 인쇄하라고 하면 자동적으로 이 메쏘드가 실행된다. <br>\n",
    "<span style=\"color:red\">\"Number is 3, exposed is True\"</span> 형태의 string 이 반환하도록 <span style=\"color:red\">Tile</span> 클래스의 <span style=\"color:red\">\\_\\_str\\_\\_</span> 메쏘드를 정의하라. <span style=\"color:red\">str</span> 함수가 필요할 수 있음을 잊지마라."
   ]
  },
  {
   "cell_type": "code",
   "execution_count": null,
   "metadata": {
    "Collapsed": "false"
   },
   "outputs": [],
   "source": [
    "class Tile:\n",
    "    \n",
    "    def __init__(self, val, exp):\n",
    "        self.number = val\n",
    "        self.exposed = exp\n",
    "        \n",
    "    def get_number(self):\n",
    "        return self.number\n",
    "    \n",
    "    def is_exposed(self):\n",
    "        return self.exposed\n",
    "    \n",
    "    def expose_tile(self):\n",
    "        self.exposed = True\n",
    "    \n",
    "    def hide_tile(self):\n",
    "        self.exposed = False\n",
    "        \n",
    "    # string method for tiles    \n",
    "    \n",
    "    \n",
    "my_tile = Tile(3, True)\n",
    "\n",
    "    "
   ]
  },
  {
   "cell_type": "code",
   "execution_count": null,
   "metadata": {
    "Collapsed": "false"
   },
   "outputs": [],
   "source": [
    "###################################################\n",
    "# Testing code\n",
    "print(my_tile)\n",
    "my_tile.hide_tile()\n",
    "print(my_tile)\n",
    "my_tile.expose_tile()\n",
    "print(my_tile)\n",
    "\n",
    "####################################################\n",
    "# Output of testing code\n",
    "\n",
    "#number is 3, exposed is True\n",
    "#number is 3, exposed is False\n",
    "#number is 3, exposed is True"
   ]
  },
  {
   "cell_type": "markdown",
   "metadata": {
    "Collapsed": "false"
   },
   "source": [
    "# 이후는 프로그램 run\n",
    "\n",
    "https://py2.codeskulptor.org/#exercises_classes_tile_selected_solution.py"
   ]
  },
  {
   "cell_type": "markdown",
   "metadata": {
    "Collapsed": "false"
   },
   "source": [
    "<br><br><br>\n",
    "<span style=\"color:red\">연습문제 6.1.7    *challenge*</span> <br><br>\n",
    "<span style=\"color:blue\">[배경설명]</span> 현재까지, <span style=\"color:red\">Tile</span> 클래스는 미니프로젝트 Memory의 대부분의 내용을 OOP로 코딩 하였다.<br>\n",
    "그러나, tiles을 어떻게 그릴것인가 하는 문제가 아직 남아있다.<br>\n",
    "하나의 방법은, <span style=\"color:red\">Tile</span> 객체들의 리스트를 그대로 유지 하면서, 미니프로젝트 Memory 에서 처럼, for 루프를 사용하여 tile 을 그릴 때,  루프의 iteration 의 함수를 사용하여  canvas에서 tile의 위치를 결정하는 방법이다.<br>\n",
    "이 방법은 아주 나쁜것은 아니나, 그려질 타일의 위치가 리스트에서의 타일의 위치에 의해 implicitly 결정된다. <br>\n",
    "이 방법보다 우리는 다음 방법을 제안한다.<br>\n",
    "tile의 위치를 <span style=\"color:red\">Tile </span> 객체 내부의 데이터에 저장한다.<br>\n",
    "이렇게 함으로써, 객체에 관련된 모든 특성을 그 객체내에 저장하는 OOP의 개념을 충실하게 따르게 된다.<br>\n",
    "<span style=\"color:red\">draw_text</span> 의 문법에서, 타일의 위치는 타일의 왼쪽 하단의 위치, (각각 global constants <span style=\"color:red\">TILE_WIDTH</span> and <span style=\"color:red\">TILE_HEIGHT</span> 에 의해 규정되는) 타일의 너비와 높이에 의해 규정된다.<br><br>\n",
    "이 디자인에서, <span style=\"color:red\">Tile</span> 클래스의 <span style=\"color:red\">draw_tile</span> 메쏘드는 tile 객체를 관련된 위치에 그려준다.<br> \n",
    "이 <span style=\"color:red\">draw_tile</span> 메쏘드는 tile을 그릴때 <span style=\"color:red\">draw_text</span> 이나 <span style=\"color:red\">draw_polygon</span> 메쏘드를 사용한다.<br> \n",
    "이들 두 메쏘드 모두,  draw handler를 통하여 들어온 canvas 가 요구되기 때문에, 우리는 draw handler의 body에서 <span style=\"color:red\">draw_tile </span> 메쏘드를 호출함으로써, draw handler의 파라메터 canvas가 <span style=\"color:red\">draw_tile</span>의 파라메터로 전달되도록 해야한다.<br>\n",
    "이렇게 함으로써, tile을 그리는 복잡성의 대부분을 draw handler 로부터  <span style=\"color:red\">Tile</span> class 로 이동시키고, draw handler의 로직을 보다 투명하게 만든다.<br><br> \n",
    "\n",
    "<span style=\"color:blue\">[문제]</span> tile의 위치를 <span style=\"color:red\">Tile</span> 클래스에 추가하고, <span style=\"color:red\">Tile</span> 클래스에 <span style=\"color:red\">draw_tile</span> 메쏘드를 코딩하라.<br>\n",
    "만일 tile의 number가 exposed 상태이면, tile의 위치에 tile의 number가 text 로써 나타나야 한다.<br>\n",
    "unexposed tile은 자기 위치에 green polygon 으로 나타나야 한다.<br>\n",
    "만일 <span style=\"color:red\">draw_tile</span> 메쏘드가 올바르게 코딩되면, 아래 프로그램은 canvas에 3을 첫번째 위치에 나타내고, green polygon 이 두번째 위치에 나타난다. "
   ]
  },
  {
   "cell_type": "code",
   "execution_count": null,
   "metadata": {
    "Collapsed": "false"
   },
   "outputs": [],
   "source": [
    "# Add an draw method for Tile class\n",
    "\n",
    "#################################################\n",
    "# Student adds code where appropriate    \n",
    "\n",
    "import SimpleGUICS2Pygame.simpleguics2pygame as simplegui\n",
    "\n",
    "# define globals\n",
    "TILE_WIDTH = 50\n",
    "TILE_HEIGHT = 100\n",
    "\n",
    "# definition of a Tile class\n",
    "class Tile:\n",
    "    \n",
    "    # definition of intializer\n",
    "    def __init__(self, num, exp):\n",
    "        self.number = num\n",
    "        self.exposed = exp\n",
    "\n",
    "       \n",
    "    # definition of getter for number\n",
    "    def get_number(self):\n",
    "        return self.number\n",
    "    \n",
    "    # check whether tile is exposed\n",
    "    def is_exposed(self):\n",
    "        return self.exposed\n",
    "    \n",
    "    # expose the tile\n",
    "    def expose_tile(self):\n",
    "        self.exposed = True\n",
    "    \n",
    "    # hide the tile       \n",
    "    def hide_tile(self):\n",
    "        self.exposed = False\n",
    "        \n",
    "    # string method for tiles    \n",
    "    def __str__(self):\n",
    "        return \"Number is \" + str(self.number) + \", exposed is \" + str(self.exposed)    \n",
    "\n",
    "    # draw method for tiles\n",
    "    def draw_tile(self, canvas):\n",
    "\n",
    "\n",
    "\n",
    "    \n",
    "# draw handler\n",
    "def draw(canvas):\n",
    "    tile1.draw_tile(canvas)\n",
    "    tile2.draw_tile(canvas)\n",
    "    \n",
    "# create frame and add a button and labels\n",
    "frame = simplegui.create_frame(\"Memory\", 2 * TILE_WIDTH, TILE_HEIGHT)\n",
    "frame.set_draw_handler(draw)\n",
    "\n",
    "# create two tiles.make sure to update initializer  \n",
    "tile1 = Tile(3, True, [0, TILE_HEIGHT])\n",
    "tile2 = Tile(5, False, [TILE_WIDTH, TILE_HEIGHT])\n",
    "\n",
    "# get things rolling\n",
    "frame.start()\n",
    "    \n",
    "    \n",
    "###################################################\n",
    "# Resulting frame should display a tile with number 3 (left)\n",
    "# and a tile with a green back (right)\n"
   ]
  },
  {
   "cell_type": "markdown",
   "metadata": {
    "Collapsed": "false"
   },
   "source": [
    "<br><br><br>\n",
    "<span style=\"color:red\">연습문제 6.1.8    *challenge*</span> <br><br>\n",
    "\n",
    "<span style=\"color:blue\">[배경설명]</span> <span style=\"color:red\">Tile</span> 클래스를 완성하기 위하여, tile 이 클릭 되었는지를 결정하는 코드를 추가하자.<br> \n",
    "미니프로젝트 Memory 에서는, draw handler에서 tile 이 클릭 되었는지를 결정하였다. <br>\n",
    "우리의 OOP 버젼에서는, 만일 tile 이 특정 point를 포함 하면 <span style=\"color:red\">True</span>를 반환하는 <span style=\"color:red\">is_selected</span> 메쏘드를 <span style=\"color:red\">Tile</span> 클래스에 추가한다.<br>\n",
    "tile 이 클릭 되었는지를 결정하기 위하여, mouse handler는 mouse의 위치를 사용하여 단순히 <span style=\"color:red\">is_selected</span>를 호출하면 된다.<br> \n",
    "반복해서 말하지만, 이러한 디자인은 클릭한 위치(point)가 명시된 타일의 영역에 포함되었는지의 결정을 mouse handler로부터 <span style=\"color:red\">Tile</span> 클래스로 이동함으로써, mouse handler의 복잡성을 감소시킨다.<br><br>\n",
    "<span style=\"color:blue\">[문제]</span> <span style=\"color:red\">is_selected</span> 메쏘드를 코딩하라.<br>\n",
    "이 메쏘드는  2차원의 한 점을 값으로 갖는 <span style=\"color:red\">pos</span> 를 파라메터로 가지며, 만일 그 점이 그 tile의 내부에 있으면 <span style=\"color:red\">True</span> 를 반환한다.<br>\n",
    "만일 <span style=\"color:red\">is_selected</span> 메쏘드가 올바르게 코딩되면, 아래 프로그램에서 green polygon을 클릭하면, 숫자가 나타난다.\n"
   ]
  },
  {
   "cell_type": "code",
   "execution_count": 83,
   "metadata": {
    "Collapsed": "false"
   },
   "outputs": [
    {
     "ename": "ModuleNotFoundError",
     "evalue": "No module named 'simplegui'",
     "output_type": "error",
     "traceback": [
      "\u001b[1;31m---------------------------------------------------------------------------\u001b[0m",
      "\u001b[1;31mModuleNotFoundError\u001b[0m                       Traceback (most recent call last)",
      "\u001b[1;32m<ipython-input-83-5fce8e2d1b91>\u001b[0m in \u001b[0;36m<module>\u001b[1;34m\u001b[0m\n\u001b[0;32m      4\u001b[0m \u001b[1;31m# Student adds code where appropriate\u001b[0m\u001b[1;33m\u001b[0m\u001b[1;33m\u001b[0m\u001b[1;33m\u001b[0m\u001b[0m\n\u001b[0;32m      5\u001b[0m \u001b[1;33m\u001b[0m\u001b[0m\n\u001b[1;32m----> 6\u001b[1;33m \u001b[1;32mimport\u001b[0m \u001b[0msimplegui\u001b[0m\u001b[1;33m\u001b[0m\u001b[1;33m\u001b[0m\u001b[0m\n\u001b[0m\u001b[0;32m      7\u001b[0m \u001b[1;33m\u001b[0m\u001b[0m\n\u001b[0;32m      8\u001b[0m \u001b[1;31m# define globals\u001b[0m\u001b[1;33m\u001b[0m\u001b[1;33m\u001b[0m\u001b[1;33m\u001b[0m\u001b[0m\n",
      "\u001b[1;31mModuleNotFoundError\u001b[0m: No module named 'simplegui'"
     ]
    }
   ],
   "source": [
    "# Add an selection method for Tile class\n",
    "\n",
    "#################################################\n",
    "# Student adds code where appropriate    \n",
    "\n",
    "import simplegui\n",
    "\n",
    "# define globals\n",
    "TILE_WIDTH = 50\n",
    "TILE_HEIGHT = 100\n",
    "\n",
    "# definition of a Tile class\n",
    "class Tile:\n",
    "    \n",
    "    # definition of intializer\n",
    "    def __init__(self, num, exp, loc):\n",
    "        self.number = num\n",
    "        self.exposed = exp\n",
    "        self.location = loc\n",
    "        \n",
    "    # definition of getter for number\n",
    "    def get_number(self):\n",
    "        return self.number\n",
    "    \n",
    "    # check whether tile is exposed\n",
    "    def is_exposed(self):\n",
    "        return self.exposed\n",
    "    \n",
    "    # expose the tile\n",
    "    def expose_tile(self):\n",
    "        self.exposed = True\n",
    "    \n",
    "    # hide the tile       \n",
    "    def hide_tile(self):\n",
    "        self.exposed = False\n",
    "        \n",
    "    # string method for tiles    \n",
    "    def __str__(self):\n",
    "        return \"Number is \" + str(self.number) + \", exposed is \" + str(self.exposed)    \n",
    "\n",
    "    # draw method for tiles\n",
    "    def draw_tile(self, canvas):\n",
    "        loc = self.location\n",
    "        if self.exposed:\n",
    "            text_location = [loc[0] + 0.2 * TILE_WIDTH, loc[1] - 0.3 * TILE_HEIGHT]\n",
    "            canvas.draw_text(str(self.number), text_location, TILE_WIDTH, \"White\")\n",
    "        else:\n",
    "            tile_corners = (loc, [loc[0] + TILE_WIDTH, loc[1]], [loc[0] + TILE_WIDTH, loc[1] - TILE_HEIGHT], [loc[0], loc[1] - TILE_HEIGHT])\n",
    "            canvas.draw_polygon(tile_corners, 1, \"Red\", \"Green\")\n",
    "\n",
    "    # selection method for tiles\n",
    "    def is_selected(self, pos):\n",
    "        pass\n",
    "        \n",
    "\n",
    "# define event handlers\n",
    "def mouseclick(pos):\n",
    "    if tile1.is_selected(pos):\n",
    "        tile1.hide_tile()\n",
    "    if tile2.is_selected(pos):\n",
    "        tile2.expose_tile()\n",
    "            \n",
    "# draw handler\n",
    "def draw(canvas):\n",
    "    tile1.draw_tile(canvas)\n",
    "    tile2.draw_tile(canvas)\n",
    "    \n",
    "# create frame and add a button and labels\n",
    "frame = simplegui.create_frame(\"Memory\", 2 * TILE_WIDTH, TILE_HEIGHT)\n",
    "frame.set_draw_handler(draw)\n",
    "frame.set_mouseclick_handler(mouseclick)\n",
    "\n",
    "# create two tiles  \n",
    "tile1 = Tile(3, True, [0, TILE_HEIGHT])\n",
    "tile2 = Tile(5, False, [TILE_WIDTH, TILE_HEIGHT])\n",
    "\n",
    "# get things rolling\n",
    "frame.start()\n",
    "    \n",
    "    \n",
    "###################################################\n",
    "# Clicking on tile should flip them once\n"
   ]
  },
  {
   "cell_type": "code",
   "execution_count": null,
   "metadata": {
    "Collapsed": "false"
   },
   "outputs": [],
   "source": []
  }
 ],
 "metadata": {
  "kernelspec": {
   "display_name": "Python 3",
   "language": "python",
   "name": "python3"
  },
  "language_info": {
   "codemirror_mode": {
    "name": "ipython",
    "version": 3
   },
   "file_extension": ".py",
   "mimetype": "text/x-python",
   "name": "python",
   "nbconvert_exporter": "python",
   "pygments_lexer": "ipython3",
   "version": "3.7.6"
  }
 },
 "nbformat": 4,
 "nbformat_minor": 4
}
