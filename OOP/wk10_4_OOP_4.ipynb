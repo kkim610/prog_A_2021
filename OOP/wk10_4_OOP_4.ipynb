{
 "cells": [
  {
   "cell_type": "markdown",
   "metadata": {
    "Collapsed": "false"
   },
   "source": [
    "# wk10_4 Working with Objects"
   ]
  },
  {
   "cell_type": "markdown",
   "metadata": {},
   "source": [
    "https://py3.codeskulptor.org/"
   ]
  },
  {
   "cell_type": "code",
   "execution_count": 1,
   "metadata": {
    "Collapsed": "false"
   },
   "outputs": [
    {
     "name": "stdout",
     "output_type": "stream",
     "text": [
      "pygame 1.9.4\n",
      "Hello from the pygame community. https://www.pygame.org/contribute.html\n"
     ]
    }
   ],
   "source": [
    "# Particle class example used to simulate diffusion of molecules\n",
    "\n",
    "import simplegui\n",
    "import random\n",
    "\n",
    "# global constants\n",
    "WIDTH = 800\n",
    "HEIGHT = 600\n",
    "PARTICLE_RADIUS = 15\n",
    "COLOR_LIST = [\"Red\", \"Yellow\", \"Blue\", \"Green\"]\n",
    "DIRECTION_LIST = [[2,0], [0, 2], [-2, 0], [0, -2]]\n",
    "\n",
    "\n",
    "# definition of Particle class\n",
    "class Particle:\n",
    "    \n",
    "    # initializer for particles\n",
    "    def __init__(self, position, color):\n",
    "        self.position = position\n",
    "        self.color = color\n",
    "        \n",
    "    # method that updates position of a particle    \n",
    "    def move(self, offset):\n",
    "        self.position[0] += offset[0]\n",
    "        self.position[1] += offset[1]\n",
    "        \n",
    "    # draw method for particles\n",
    "    def draw(self, canvas):\n",
    "        canvas.draw_circle(self.position, PARTICLE_RADIUS, 1, self.color, self.color)\n",
    "    \n",
    "    # string method for particles\n",
    "    def __str__(self):\n",
    "        return \"Particle with position = \" + str(self.position) + \" and color = \" + self.color\n",
    "\n",
    "\n",
    "# draw handler\n",
    "def draw(canvas):\n",
    "    for p in particle_list:\n",
    "        p.move(random.choice(DIRECTION_LIST))\n",
    "    \n",
    "    for p in particle_list:\n",
    "        p.draw(canvas)\n",
    "\n",
    "\n",
    "# create frame and register draw handler\n",
    "frame = simplegui.create_frame(\"Particle simulator\", WIDTH, HEIGHT)\n",
    "frame.set_draw_handler(draw)\n",
    "\n",
    "# create a list of particles\n",
    "particle_list = []\n",
    "for i in range(100):\n",
    "    p = Particle([WIDTH / 2, HEIGHT / 2], random.choice(COLOR_LIST))\n",
    "    particle_list.append(p)\n",
    "\n",
    "# start frame\n",
    "frame.start()\n"
   ]
  },
  {
   "cell_type": "code",
   "execution_count": 2,
   "metadata": {
    "Collapsed": "false"
   },
   "outputs": [
    {
     "name": "stdout",
     "output_type": "stream",
     "text": [
      "Particle with position = [20, 20] and color = Red\n",
      "<class '__main__.Particle'>\n",
      "Particle with position = [30, 40] and color = Red\n",
      "Particle with position = [15, 15] and color = Red\n",
      "\n",
      "Particle with position = [15, 30] and color = Green\n",
      "<class '__main__.Particle'>\n",
      "Particle with position = [15, 30] and color = Green\n"
     ]
    }
   ],
   "source": [
    "# Testing template for Particle class\n",
    "\n",
    "\n",
    "###################################################\n",
    "# Student should add code for the Particle class here\n",
    "    \n",
    "\n",
    "\n",
    "###################################################\n",
    "# Test code for the Particle class\n",
    "\n",
    "\n",
    "p = Particle([20, 20], \"Red\")\n",
    "print(p)\n",
    "print(type(p))\n",
    "p.move([10, 20])\n",
    "print(p)\n",
    "p.move([-15, -25])\n",
    "print(p)\n",
    "print()\n",
    "q = Particle([15, 30], \"Green\")\n",
    "print(q)\n",
    "print(type(q))\n",
    "q.move([0, 0])\n",
    "print(q)\n",
    "\n",
    "\n",
    "###################################################\n",
    "# Output from test\n",
    "\n",
    "#Particle with position = [20, 20] and color = Red\n",
    "#<class '__main__.Particle'>\n",
    "#Particle with position = [30, 40] and color = Red\n",
    "#Particle with position = [15, 15] and color = Red\n",
    "#\n",
    "#Particle with position = [15, 30] and color = Green\n",
    "#<class '__main__.Particle'>\n",
    "#Particle with position = [15, 30] and color = Green\n"
   ]
  },
  {
   "cell_type": "code",
   "execution_count": null,
   "metadata": {
    "Collapsed": "false"
   },
   "outputs": [],
   "source": []
  }
 ],
 "metadata": {
  "kernelspec": {
   "display_name": "Python 3",
   "language": "python",
   "name": "python3"
  },
  "language_info": {
   "codemirror_mode": {
    "name": "ipython",
    "version": 3
   },
   "file_extension": ".py",
   "mimetype": "text/x-python",
   "name": "python",
   "nbconvert_exporter": "python",
   "pygments_lexer": "ipython3",
   "version": "3.7.6"
  }
 },
 "nbformat": 4,
 "nbformat_minor": 4
}
