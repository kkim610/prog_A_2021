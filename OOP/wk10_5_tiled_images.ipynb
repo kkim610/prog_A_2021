{
 "cells": [
  {
   "cell_type": "markdown",
   "metadata": {
    "Collapsed": "false"
   },
   "source": [
    "# wk06_05  Tiled Images"
   ]
  },
  {
   "cell_type": "markdown",
   "metadata": {
    "Collapsed": "false"
   },
   "source": [
    "https://py3.codeskulptor.org/"
   ]
  },
  {
   "cell_type": "markdown",
   "metadata": {
    "Collapsed": "false"
   },
   "source": [
    "### Loading images"
   ]
  },
  {
   "cell_type": "markdown",
   "metadata": {
    "Collapsed": "false"
   },
   "source": [
    "<img style=\"float: left;\" src=\"pic/06_05_01.png\"  width=\"750\">"
   ]
  },
  {
   "cell_type": "markdown",
   "metadata": {
    "Collapsed": "false"
   },
   "source": [
    "CARD_SIZE = (73,98)  \n",
    "CARD_CENTER = (36.5, 49)\n",
    "\n",
    "(i,j)에 위치한 카드의 center는?  \n",
    "card_pos ="
   ]
  },
  {
   "cell_type": "markdown",
   "metadata": {
    "Collapsed": "false"
   },
   "source": [
    "canvas.draw_image(tiled_image, card_pos, CARD_SIZE, .... )"
   ]
  },
  {
   "cell_type": "markdown",
   "metadata": {
    "Collapsed": "false"
   },
   "source": [
    "<img style=\"float: left;\" src=\"pic/06_05_02.png\"  width=\"750\">"
   ]
  },
  {
   "cell_type": "markdown",
   "metadata": {
    "Collapsed": "false"
   },
   "source": [
    "### demo for drawing using tiled images"
   ]
  },
  {
   "cell_type": "code",
   "execution_count": null,
   "metadata": {
    "Collapsed": "false"
   },
   "outputs": [],
   "source": [
    "# demo for drawing using tiled images\n",
    "\n",
    "import simplegui\n",
    "\n",
    "# define globals for cards\n",
    "RANKS = ('A', '2', '3', '4', '5', '6', '7', '8', '9', 'T', 'J', 'Q', 'K')\n",
    "SUITS = ('C', 'S', 'H', 'D')\n",
    "\n",
    "# card sprite - 950x392\n",
    "CARD_CENTER = (36.5, 49)\n",
    "CARD_SIZE = (73, 98)\n",
    "card_image = simplegui.load_image(\"http://commondatastorage.googleapis.com/codeskulptor-assets/cards.jfitz.png\")\n",
    "\n",
    "\n",
    "\n",
    "# define card class\n",
    "class Card:\n",
    "    def __init__(self, suit, rank):\n",
    "        self.rank = rank\n",
    "        self.suit = suit\n",
    "\n",
    "    def draw(self, canvas, loc):\n",
    "        i = RANKS.index(self.rank)\n",
    "        j = SUITS.index(self.suit)\n",
    "        card_pos = [CARD_CENTER[0] + i * CARD_SIZE[0],\n",
    "                    CARD_CENTER[1] + j * CARD_SIZE[1]]\n",
    "        canvas.draw_image(card_image, card_pos, CARD_SIZE, loc, CARD_SIZE)\n",
    "\n",
    "# define draw handler        \n",
    "def draw(canvas):\n",
    "    one_card.draw(canvas, (155, 90))\n",
    "\n",
    "# define frame and register draw handler\n",
    "frame = simplegui.create_frame(\"Card draw\", 300, 200)\n",
    "frame.set_draw_handler(draw)\n",
    "\n",
    "# createa card\n",
    "one_card = Card('S', '6')\n",
    "\n",
    "frame.start()\n"
   ]
  },
  {
   "cell_type": "markdown",
   "metadata": {
    "Collapsed": "false"
   },
   "source": [
    "위 프로그램에서 38번째 라인의 코드에서, 카드의 무늬와 숫자를 바꾸어 실행해보자."
   ]
  },
  {
   "cell_type": "code",
   "execution_count": null,
   "metadata": {
    "Collapsed": "false"
   },
   "outputs": [],
   "source": []
  }
 ],
 "metadata": {
  "kernelspec": {
   "display_name": "Python 3",
   "language": "python",
   "name": "python3"
  },
  "language_info": {
   "codemirror_mode": {
    "name": "ipython",
    "version": 3
   },
   "file_extension": ".py",
   "mimetype": "text/x-python",
   "name": "python",
   "nbconvert_exporter": "python",
   "pygments_lexer": "ipython3",
   "version": "3.7.6"
  }
 },
 "nbformat": 4,
 "nbformat_minor": 4
}
